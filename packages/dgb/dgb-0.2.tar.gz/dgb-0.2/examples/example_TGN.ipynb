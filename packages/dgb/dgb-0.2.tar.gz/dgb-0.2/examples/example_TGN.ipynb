{
  "nbformat": 4,
  "nbformat_minor": 0,
  "metadata": {
    "colab": {
      "provenance": []
    },
    "kernelspec": {
      "name": "python3",
      "display_name": "Python 3"
    },
    "language_info": {
      "name": "python"
    }
  },
  "cells": [
    {
      "cell_type": "markdown",
      "source": [
        "# Example DGB on TGN\n",
        "It's common for projects to ask users to download datasets from the internet. Standardizes this process, here is an example of how the TGN project could use DGB to get automatic and reproducable downloads for their datasets.  "
      ],
      "metadata": {
        "id": "2W_AkUryKYqm"
      }
    },
    {
      "cell_type": "markdown",
      "source": [
        "First, install DGB and clone the TGN project"
      ],
      "metadata": {
        "id": "J4d1hImNCOp0"
      }
    },
    {
      "cell_type": "code",
      "source": [
        "!pip install dgb\n",
        "!git clone https://github.com/twitter-research/tgn"
      ],
      "metadata": {
        "colab": {
          "base_uri": "https://localhost:8080/"
        },
        "id": "0Nurq-z_Kd39",
        "outputId": "fe3b3ec5-6cc9-4830-8310-ca7a8fdd2743"
      },
      "execution_count": 3,
      "outputs": [
        {
          "output_type": "stream",
          "name": "stdout",
          "text": [
            "\u001b[31mERROR: Operation cancelled by user\u001b[0m\u001b[31m\n",
            "\u001b[0m^C\n",
            "fatal: destination path 'tgn' already exists and is not an empty directory.\n"
          ]
        }
      ]
    },
    {
      "cell_type": "markdown",
      "source": [
        "Here is some simple code that could be added to the project that will auto download the required dataset, we use sub_folder and data_folder to create the required files in the required postion for the TGN project to work. "
      ],
      "metadata": {
        "id": "wVYtZjY8CSLn"
      }
    },
    {
      "cell_type": "code",
      "execution_count": 7,
      "metadata": {
        "colab": {
          "base_uri": "https://localhost:8080/"
        },
        "id": "ijvtnAO6KWes",
        "outputId": "9416ef69-8a69-40c4-a03d-7d9d1ddffb5f"
      },
      "outputs": [
        {
          "output_type": "stream",
          "name": "stdout",
          "text": [
            "The following datasets not found: mooc \n",
            "Data missing, download recommended!\n",
            "Will you download the dataset(s) now? (y/N)\n",
            "y\n",
            "\u001b[93mDownload started, this might take a while . . . \u001b[0m\n",
            "Dataset title: mooc\n",
            "\u001b[92mDownload completed \u001b[0m\n",
            "The dataset has 411749 interactions, involving 7144 different nodes\n",
            "The training dataset has 227485 interactions, involving 6015 different nodes\n",
            "The validation dataset has 61762 interactions, involving 2599 different nodes\n",
            "The test dataset has 25592 interactions, involving 2333 different nodes\n",
            "The new node validation dataset has 25592 interactions, involving 2333 different nodes\n",
            "The new node test dataset has 29179 interactions, involving 2181 different nodes\n"
          ]
        }
      ],
      "source": [
        "import dgb\n",
        "\n",
        "dgb.TemporalDataSets(data_name=\"reddit\", sub_folder=False, data_folder=\"./tgn/data\")\n"
      ]
    },
    {
      "cell_type": "markdown",
      "source": [
        "now we can simply run the TGN project with the data properly installed."
      ],
      "metadata": {
        "id": "dvuLsldWNBdY"
      }
    },
    {
      "cell_type": "code",
      "source": [
        "\n",
        "!cd tgn\n",
        "!python train_self_supervised.py -d reddit --use_memory --prefix tgn-attn-reddit --n_runs 10"
      ],
      "metadata": {
        "colab": {
          "base_uri": "https://localhost:8080/"
        },
        "id": "t_7cGHET6XVq",
        "outputId": "527d597a-ab0c-45db-da17-9a7c84ff94e2"
      },
      "execution_count": 1,
      "outputs": [
        {
          "output_type": "stream",
          "name": "stdout",
          "text": [
            "Cloning into 'tgn'...\n",
            "remote: Enumerating objects: 165, done.\u001b[K\n",
            "remote: Total 165 (delta 0), reused 0 (delta 0), pack-reused 165\u001b[K\n",
            "Receiving objects: 100% (165/165), 977.79 KiB | 14.59 MiB/s, done.\n",
            "Resolving deltas: 100% (82/82), done.\n"
          ]
        }
      ]
    }
  ]
}