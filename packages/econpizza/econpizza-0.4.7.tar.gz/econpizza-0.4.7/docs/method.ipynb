{
 "cells": [
  {
   "cell_type": "markdown",
   "metadata": {},
   "source": [
    "# Under the hood"
   ]
  },
  {
   "cell_type": "markdown",
   "metadata": {},
   "source": [
    "The methodology extends Auclert et al. (2022, ECMA) to solve the system fully nonlinearly. \n",
    "Most heterogeneous agent models can be expressed in terms of the three functions $V$, $D$ and $F$:\n",
    "\n",
    "$$\n",
    "\\begin{align}\n",
    "v_t =& V(x_{t-1}, x_t, x_{t+1}, v_{t+1})\\\\\n",
    "d_t =& D(x_{t-1}, x_t, x_{t+1}, v_t, d_{t-1})\\\\\n",
    "0 =& f(x_{t-1}, x_t, x_{t+1}, d_t, v_t)\n",
    "\\end{align}\n",
    "$$\n",
    "\n",
    "where $x_t$ is the time-$t$ vector of _aggregate_ variables, with each aggregate variables $x_{i,t}$ indexed over $i \\in 1,2, \\dots, N$. $v_t$ containts the idiosyncratic agents decision functions and $d_t$ is the distribution across agents."
   ]
  },
  {
   "cell_type": "markdown",
   "metadata": {},
   "source": [
    "## The steady state"
   ]
  },
  {
   "cell_type": "markdown",
   "metadata": {},
   "source": [
    "Let the steady state values be denoted by a bar, i.e. $\\bar{x}$, $\\bar{d}$ and $\\bar{v}$. The steady state is often not unique. In this case it is necessary to fix some variables ex-ante, i.e. to given values. Denote the set of indices of the values to be fixed as $K$ and the fixed values as $\\hat{x}$. Further, let $b(x)$ be a function that sets $x_K=\\hat{x}$, i.e.\n",
    "$$\n",
    "b(x) = \\{x_{\\not\\in K} \\land \\hat{x}\\}.\n",
    "$$"
   ]
  },
  {
   "cell_type": "markdown",
   "metadata": {},
   "source": [
    "The steady state then satisfies\n",
    "$$\n",
    "\\begin{align}\n",
    "\\bar{v} =& V(\\bar{x}, \\bar{x}, \\bar{x}, \\bar{v})\\\\\n",
    "\\bar{d} =& D(\\bar{x}, \\bar{x}, \\bar{x}, \\bar{v}, \\bar{d})\\\\\n",
    "0 =& f(\\bar{x}, \\bar{x}, \\bar{x}, \\bar{d}, \\bar{v})\\\\\n",
    "\\bar{x} =& b(\\bar{x})\n",
    "\\end{align}\n",
    "$$"
   ]
  },
  {
   "cell_type": "markdown",
   "metadata": {},
   "source": [
    "For a given guess on $\\bar{x}$, the first equation can be solved for $\\bar{v}$ via backwards iteration. Denote the function that solves this as $\\bar{v}=\\bar{V}(\\bar{x})$.\n",
    "Given $\\bar{x}$ and $\\bar{v}$, the second equation can be solved via forward iteration (or via eigenvector, but eigenvectors are not yet available for automatic differentiation). Denote this solver as $\\bar{d} = \\bar{D}(\\bar{x},\\bar{v})$. Define $\\bar{f}$ equivalently.\n",
    "\n",
    "Combining those, $\\bar{x}$ must satisfy a function $H$ defined by\n",
    "$$\n",
    "H(\\bar{x}) = \\bar{f}\\left(b(\\bar{x}), \\bar{D}\\left(b(\\bar{x}), \\bar{V}(b(\\bar{x}))\\right), \\bar{V}(b(\\bar{x}))\\right) = 0.\n",
    "$$\n",
    "\n",
    "We can calculate the Jacobian of $H$ using automatic differentiation and, starting with some guess $X^j$ on $\\bar{x}$, we can iterate on $H$ using a Newton method. During iteration we use the Moore–Penrose inverse for the inversion of the Jacobian since $\\bar{f}$ may not have full rank, in which case it is necessary that $K \\neq \\{\\}$, from which it follows that $b(x)$ also does not have full rank.\n"
   ]
  },
  {
   "cell_type": "markdown",
   "metadata": {},
   "source": [
    "## Dynamic solution"
   ]
  },
  {
   "cell_type": "markdown",
   "metadata": {},
   "source": [
    "Let, for the sake of generality, letters with a tilde denote the complete expected time series/sequence of a variable up to some distant point $T$ in the future, e.g $\\tilde{x} = \\{x_{t}\\}_{t=0}^T$. The above system can be written as\n",
    "\n",
    "$$\n",
    "\\begin{align}\n",
    "v_t =& V(\\tilde{x}, v_{t+1})\\\\\n",
    "d_t =& D(\\tilde{x}, \\tilde{v}, d_{t-1})\\\\\n",
    "0 =& F(\\tilde{x}, \\tilde{d}, \\tilde{v})\n",
    "\\end{align}\n",
    "$$\n",
    "\n",
    "with $F=\\{f(x_{t-1},x_t,x_{t+1}, d_t, v_t)\\}_{t=1}^T$. "
   ]
  },
  {
   "cell_type": "markdown",
   "metadata": {},
   "source": [
    "$V$ often takes the form of a value function. Note that the above assumes that $V$ is independent of the distribution at any point in time. Assuming that after $T$ we are back in the steady state, the sequence $\\tilde{v}$ can be found by starting with\n",
    "\n",
    "$$\n",
    "\\begin{align}\n",
    "v_T =& V(\\tilde{x}, \\bar{v})\\\\\n",
    "v_{T-1} =& V(\\tilde{x}, v_T)\\\\\n",
    "\\dots =& V(\\tilde{x}, v_{T-1})\n",
    "\\end{align}\n",
    "$$\n",
    "\n",
    "and iterating backwards until we arrive at $v_0$. This yields the sequence $\\tilde{v}$."
   ]
  },
  {
   "cell_type": "markdown",
   "metadata": {},
   "source": [
    "Now taking $v_0$ as given and assuming we are also in the steady state in $t=0$, we can start with $d_{-1}=\\bar{d}$ and iterate $D$ forward:\n",
    "\n",
    "$$\n",
    "\\begin{align}\n",
    "d_0 =& D(\\tilde{x}, \\tilde{v}, \\bar{d})\\\\\n",
    "d_1 =& D(\\tilde{x}, \\tilde{v}, d_0)\\\\\n",
    "\\dots =& D(\\tilde{x}, \\tilde{v}, d_2)\n",
    "\\end{align}\n",
    "$$\n",
    "\n",
    "until we arrive at $d_T$. This yields $\\tilde{d}$."
   ]
  },
  {
   "cell_type": "markdown",
   "metadata": {},
   "source": [
    "Denote the function that generates $\\tilde{v}$ from $\\tilde{x}$ as $\\hat{V}$, and a function that generates $\\tilde{d}$ from $\\tilde{x}$ and $\\tilde{v}$ as $\\hat{D}$. Then we can define\n",
    "\n",
    "$$\n",
    "G(\\tilde{x}) = F\\left(\\tilde{x}, \\hat{D}\\left(\\tilde{x}, \\hat{V}(\\tilde{x})\\right), \\hat{V}(\\tilde{x})\\right)\n",
    "$$\n",
    "\n",
    "as a function that only depends on the sequence $\\tilde{x}$."
   ]
  },
  {
   "cell_type": "markdown",
   "metadata": {},
   "source": [
    "We are looking for a sequence $\\tilde{x}$ of aggregate variables such that $G(\\tilde{x})=0$. Given that the jacobian $J_G$ of $G(\\cdot)$ is available via automatic differentiation, we can then use a Newton method to solve for $\\tilde{x}$ directly without having to explicitely keep track of any distribution variable. Note that (a) $J_G$ is sparse, so we can make use of sparse linear algebra when solving for the next Newton guess. Also note (b) that not all entries of $f$ depend on aggregated heterogeneous inputs, which can be used to calculate most of the individual blocks of $G_J$ directly from $f$ instead of having to diffentiate the complete function $F$, which is computationally relatively expensive."
   ]
  },
  {
   "cell_type": "markdown",
   "metadata": {},
   "source": [
    "## Tipps & Tricks"
   ]
  },
  {
   "cell_type": "markdown",
   "metadata": {},
   "source": [
    "The above functions are written dynamically during parsing (in `parsing.py`)."
   ]
  },
  {
   "cell_type": "code",
   "execution_count": 1,
   "metadata": {},
   "outputs": [],
   "source": [
    "import econpizza as ep\n",
    "from econpizza import example_hank"
   ]
  },
  {
   "cell_type": "code",
   "execution_count": 2,
   "metadata": {},
   "outputs": [
    {
     "name": "stderr",
     "output_type": "stream",
     "text": [
      "WARNING:jax._src.lib.xla_bridge:No GPU/TPU found, falling back to CPU. (Set TF_CPP_MIN_LOG_LEVEL=0 and rerun for more info.)\n"
     ]
    },
    {
     "name": "stdout",
     "output_type": "stream",
     "text": [
      "(load:) Parsing done.\n"
     ]
    }
   ],
   "source": [
    "mod = ep.load(example_hank)"
   ]
  },
  {
   "cell_type": "markdown",
   "metadata": {},
   "source": [
    "The model instance is a dictionary, containing all the informations of the model. For instance, it contains the parsed functions as strings:"
   ]
  },
  {
   "cell_type": "code",
   "execution_count": 3,
   "metadata": {},
   "outputs": [
    {
     "data": {
      "text/plain": [
       "dict_keys(['func_backw', 'func_stst_dist', 'func_dist', 'func_pre_stst', 'func_eqns'])"
      ]
     },
     "execution_count": 3,
     "metadata": {},
     "output_type": "execute_result"
    }
   ],
   "source": [
    "mod['func_strings'].keys()"
   ]
  },
  {
   "cell_type": "markdown",
   "metadata": {},
   "source": [
    "The function `func_backw` corresponds to function $V(\\cdot)$ above, `func_stst_dist` is $\\bar{D}(\\cdot)$, `func_dist` is $D(\\cdot)$, `func_pre_stst` corresponds to $b(\\cdot)$, and `func_eqns` is $f(\\cdot)$. $F$ and $\\bar{f}$ are created dynamically in `stacking.py` and `steady_state.py`.\n",
    "\n",
    "Lets inspect $f$:"
   ]
  },
  {
   "cell_type": "code",
   "execution_count": 4,
   "metadata": {},
   "outputs": [
    {
     "name": "stdout",
     "output_type": "stream",
     "text": [
      "def func_eqns(XLag, X, XPrime, XSS, shocks, pars, distributions=[], decisions_outputs=[]):\n",
      "        \n",
      "        \n",
      " (BLag, betaLag, CLag, DivLag, nLag, piLag, RLag, RnLag, RsLag, RstarLag, TaxLag, Top10ALag, Top10CLag, wLag, YLag, YprodLag, ZLag, ) = XLag\n",
      "        \n",
      " (B, beta, C, Div, n, pi, R, Rn, Rs, Rstar, Tax, Top10A, Top10C, w, Y, Yprod, Z, ) = X\n",
      "        \n",
      " (BPrime, betaPrime, CPrime, DivPrime, nPrime, piPrime, RPrime, RnPrime, RsPrime, RstarPrime, TaxPrime, Top10APrime, Top10CPrime, wPrime, YPrime, YprodPrime, ZPrime, ) = XPrime\n",
      "        \n",
      " (BSS, betaSS, CSS, DivSS, nSS, piSS, RSS, RnSS, RsSS, RstarSS, TaxSS, Top10ASS, Top10CSS, wSS, YSS, YprodSS, ZSS, ) = XSS\n",
      "        \n",
      " (eis, frisch, theta, psi, phi_pi, phi_y, rho, rho_beta, rho_rstar, rho_Z, ) = pars\n",
      "        \n",
      " (e_beta, e_rstar, e_z, ) = shocks\n",
      "        \n",
      " (dist, ) = distributions\n",
      "        \n",
      " (a, c, ) = decisions_outputs\n",
      "        \n",
      " # NOTE: summing over the first two dimensions e and a, but not the time dimension (dimension 2)\n",
      " # `dist` here corresponds to the dist from the *previous* period.\n",
      " aggr_a = jnp.sum(dist*a, axis=(0,1))\n",
      " aggr_c = jnp.sum(dist*c, axis=(0,1))\n",
      " # calculate consumption and wealth share of top-10% cumsumers\n",
      " top10c = 1 - percentile(c, dist, .9)\n",
      " top10a = 1 - percentile(a, dist, .9)\n",
      "        \n",
      " root_container0 = C  - ( aggr_c)\n",
      " root_container1 = Top10C  - ( top10c)\n",
      " root_container2 = Top10A  - ( top10a)\n",
      " root_container3 = n  - ( Yprod / Z)\n",
      " root_container4 = Div  - ( - w * n + (1 - psi*(pi/piSS - 1)**2/2)*Yprod)\n",
      " root_container5 = Y  - ( (1 - psi*(pi/piSS - 1)**2/2)*Yprod)\n",
      " root_container6 = psi*(pi/piSS - 1)*pi/piSS  - ( (1-theta) + theta*w + psi*piPrime/Rn*(piPrime/piSS - 1)*piPrime/piSS*YprodPrime/Yprod)\n",
      " root_container7 = R  - ( RsLag/pi)\n",
      " root_container8 = Rs  - ( (Rstar*((pi/piSS)**phi_pi)*((Y/YLag)**phi_y))**(1-rho)*RsLag**rho)\n",
      " root_container9 = Rn  - ( maximum(1, Rs))\n",
      " root_container10 = Tax  - ( (R-1) * BLag)\n",
      " root_container11 = C  - ( Y)\n",
      " root_container12 = B  - ( aggr_a)\n",
      " root_container13 = w**frisch  - ( n)\n",
      " root_container14 = beta  - ( betaSS*(betaLag/betaSS)**rho_beta*exp(e_beta))\n",
      " root_container15 = Rstar  - ( RstarSS*(RstarLag/RstarSS)**rho_rstar*exp(e_rstar))\n",
      " root_container16 = Z  - ( ZSS*(ZLag/ZSS)**rho_Z*exp(e_z))\n",
      "        \n",
      " return jnp.array([root_container0, root_container1, root_container2, root_container3, root_container4, root_container5, root_container6, root_container7, root_container8, root_container9, root_container10, root_container11, root_container12, root_container13, root_container14, root_container15, root_container16]).T.ravel()\n"
     ]
    }
   ],
   "source": [
    "print(mod['func_strings']['func_eqns'])"
   ]
  },
  {
   "cell_type": "markdown",
   "metadata": {},
   "source": [
    "This function is then automatically compiled and the callable can be found in `model['context']`:"
   ]
  },
  {
   "cell_type": "code",
   "execution_count": 5,
   "metadata": {},
   "outputs": [
    {
     "data": {
      "text/plain": [
       "<function econpizza.parsing.func_eqns(XLag, X, XPrime, XSS, shocks, pars, distributions=[], decisions_outputs=[])>"
      ]
     },
     "execution_count": 5,
     "metadata": {},
     "output_type": "execute_result"
    }
   ],
   "source": [
    "mod['context']['func_eqns']"
   ]
  }
 ],
 "metadata": {
  "@webio": {
   "lastCommId": null,
   "lastKernelId": null
  },
  "kernelspec": {
   "display_name": "Python 3 (ipykernel)",
   "language": "python",
   "name": "python3"
  },
  "language_info": {
   "codemirror_mode": {
    "name": "ipython",
    "version": 3
   },
   "file_extension": ".py",
   "mimetype": "text/x-python",
   "name": "python",
   "nbconvert_exporter": "python",
   "pygments_lexer": "ipython3",
   "version": "3.10.9"
  }
 },
 "nbformat": 4,
 "nbformat_minor": 2
}
