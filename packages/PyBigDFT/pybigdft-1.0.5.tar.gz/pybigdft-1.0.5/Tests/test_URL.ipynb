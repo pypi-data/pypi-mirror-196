{
 "cells": [
  {
   "cell_type": "code",
   "execution_count": 1,
   "id": "9caf808a",
   "metadata": {},
   "outputs": [
    {
     "name": "stdout",
     "output_type": "stream",
     "text": [
      "running with:\n",
      "remote dir: /home/test/bigdft-suite/PyBigDFT/Tests/fake_remote_URL\n",
      "local dir: /home/test/bigdft-suite/PyBigDFT/Tests/fake_local_URL\n"
     ]
    }
   ],
   "source": [
    "import sys\n",
    "import os\n",
    "import time\n",
    "\n",
    "sys.path.insert(0, '..')\n",
    "sys.path.insert(0, '../../futile/python')\n",
    "\n",
    "package = 'URL'\n",
    "\n",
    "import BigDFT\n",
    "BigDFT.Logger.path = os.path.join(os.getcwd(), f'BigDFT_test{package}.yaml')\n",
    "BigDFT.Logger.level = 'debug'\n",
    "BigDFT.Logger.overwrite = True\n",
    "BigDFT.Logger.info(f'{package} unit testing begins')\n",
    "\n",
    "import BigDFT.RemoteRunners as r\n",
    "\n",
    "from BigDFT.URL import URL\n",
    "\n",
    "remote_dir = os.path.join(os.getcwd(), f'fake_remote_{package}')\n",
    "local_dir = os.path.join(os.getcwd(), f'fake_local_{package}')\n",
    "\n",
    "print(f'running with:\\nremote dir: {remote_dir}\\nlocal dir: {local_dir}')"
   ]
  },
  {
   "cell_type": "code",
   "execution_count": 2,
   "id": "019c2086",
   "metadata": {},
   "outputs": [],
   "source": [
    "from BigDFT.URL import URL"
   ]
  },
  {
   "cell_type": "markdown",
   "id": "fa8c0e00",
   "metadata": {},
   "source": [
    "### Test BigDFT.URL"
   ]
  },
  {
   "cell_type": "code",
   "execution_count": 3,
   "id": "c49544bc",
   "metadata": {},
   "outputs": [
    {
     "name": "stdout",
     "output_type": "stream",
     "text": [
      "test\n",
      "127.0.0.1\n",
      "1800\n",
      "False\n",
      "True\n"
     ]
    }
   ],
   "source": [
    "# NBVAL_CHECK_OUTPUT\n",
    "# basic instantisation\n",
    "u = URL(user = 'test', host = '127.0.0.1', port = 1800)\n",
    "\n",
    "print(u.user)\n",
    "print(u.host)\n",
    "print(u.port)\n",
    "print(u.local)\n",
    "print(u.is_tunnel)"
   ]
  },
  {
   "cell_type": "code",
   "execution_count": 4,
   "id": "1417bcf1",
   "metadata": {},
   "outputs": [
    {
     "name": "stdout",
     "output_type": "stream",
     "text": [
      "test\n",
      "127.0.0.1\n",
      "False\n",
      "False\n",
      "-auq\n"
     ]
    }
   ],
   "source": [
    "# NBVAL_CHECK_OUTPUT\n",
    "# from_string method\n",
    "u = URL.from_string('test@127.0.0.1', rsync='auq')\n",
    "\n",
    "print(u.user)\n",
    "print(u.host)\n",
    "print(u.local)\n",
    "print(u.is_tunnel)\n",
    "print(u.rsync_flags)"
   ]
  },
  {
   "cell_type": "code",
   "execution_count": 5,
   "id": "aee46161",
   "metadata": {},
   "outputs": [
    {
     "name": "stdout",
     "output_type": "stream",
     "text": [
      "False\n",
      "True\n"
     ]
    }
   ],
   "source": [
    "# NBVAL_CHECK_OUTPUT\n",
    "# update values\n",
    "u.host = 'new'\n",
    "u.port = 1800\n",
    "print(u.local)\n",
    "print(u.is_tunnel)"
   ]
  },
  {
   "cell_type": "code",
   "execution_count": 6,
   "id": "144d3d31",
   "metadata": {},
   "outputs": [
    {
     "name": "stdout",
     "output_type": "stream",
     "text": [
      "True\n"
     ]
    }
   ],
   "source": [
    "# NBVAL_CHECK_OUTPUT\n",
    "# 'local' test\n",
    "u = URL()\n",
    "\n",
    "print(u.local)"
   ]
  },
  {
   "cell_type": "code",
   "execution_count": 7,
   "id": "423daed1",
   "metadata": {
    "scrolled": false
   },
   "outputs": [],
   "source": [
    "# test that test_connection properly resets permissions\n",
    "u._permissions['rsync'] = 'cp fallback'\n",
    "u._permissions['garbage'] = 'delete me'\n",
    "ctest = u.test_connection(verbose=False)"
   ]
  },
  {
   "cell_type": "code",
   "execution_count": 8,
   "id": "da7b8697",
   "metadata": {},
   "outputs": [
    {
     "name": "stdout",
     "output_type": "stream",
     "text": [
      "True\n"
     ]
    }
   ],
   "source": [
    "# NBVAL_CHECK_OUTPUT\n",
    "print(ctest)"
   ]
  },
  {
   "cell_type": "code",
   "execution_count": 9,
   "id": "23b5929c",
   "metadata": {},
   "outputs": [
    {
     "name": "stdout",
     "output_type": "stream",
     "text": [
      "{'rsync': 'cp fallback', 'garbage': 'delete me'}\n"
     ]
    }
   ],
   "source": [
    "# NBVAL_CHECK_OUTPUT\n",
    "permissions = u.permissions\n",
    "# need to pop options which would have differences in the CI\n",
    "permissions.pop('latency')\n",
    "permissions.pop('local_root')\n",
    "print(permissions)"
   ]
  },
  {
   "cell_type": "code",
   "execution_count": 10,
   "id": "027920ed",
   "metadata": {},
   "outputs": [
    {
     "name": "stdout",
     "output_type": "stream",
     "text": [
      "push multiple: ['test_1', 'test_2', 'test_3']\n",
      "pull multiple: ['test_1', 'test_2', 'test_3']\n",
      "push single: ['test_1']\n",
      "pull single: ['test_1']\n",
      "push multiple (cp) ['test_1', 'test_2', 'test_3']\n",
      "pull multiple (cp) ['test_1', 'test_2', 'test_3']\n",
      "push single (cp) ['test_1']\n",
      "pull single (cp) ['test_1']\n"
     ]
    }
   ],
   "source": [
    "# NBVAL_CHECK_OUTPUT\n",
    "# rsync tests. This cell is designed to also work (manually) enabling a remote connection\n",
    "# setup\n",
    "BigDFT.Logger.info('testing rsync behaviour')\n",
    "u.test_connection(verbose=False)\n",
    "u.ensure_dir(f'{local_dir}', force_local=True)\n",
    "u.ensure_dir(f'{remote_dir}')\n",
    "u.cmd(f'rm -r {remote_dir}/*', suppress_warn=True)\n",
    "u.cmd(f'rm -r {local_dir}/*', suppress_warn=True)\n",
    "\n",
    "u.cmd(f'touch {local_dir}/test_{{1,2,3}}', local=True)\n",
    "\n",
    "BigDFT.Logger.info('PUSH: MULTIPLE')\n",
    "# TESTING BEGINS: PUSH MULTIPLE\n",
    "# multiple files\n",
    "u.cmd(f'rm -r {remote_dir}/test*', suppress_warn=True)\n",
    "u.rsync(['test_1','test_2','test_3'],\n",
    "       origin=f'{local_dir}',\n",
    "       target=f'{remote_dir}',\n",
    "       push=True)\n",
    "\n",
    "after = u.ls(f'{remote_dir}')\n",
    "print('push multiple:', after)\n",
    "\n",
    "# TESTING BEGINS: PULL MULTIPLE\n",
    "BigDFT.Logger.info('PULL: MULTIPLE')\n",
    "u.cmd(f'rm -r {local_dir}/test*', suppress_warn=True)\n",
    "u.rsync(['test_1','test_2','test_3'],\n",
    "       origin=f'{local_dir}',\n",
    "       target=f'{remote_dir}',\n",
    "       push=False)\n",
    "\n",
    "after = u.ls(f'{local_dir}', local=True)\n",
    "print('pull multiple:', after)\n",
    "\n",
    "# TESTING BEGINS: PUSH SINGLE\n",
    "BigDFT.Logger.info('PUSH: SINGLE')\n",
    "u.cmd(f'rm -r {remote_dir}/test*', suppress_warn=True)\n",
    "u.rsync(['test_1'],\n",
    "       origin=f'{local_dir}',\n",
    "       target=f'{remote_dir}',\n",
    "       push=True)\n",
    "\n",
    "after = u.ls(f'{remote_dir}')\n",
    "print('push single:', after)\n",
    "\n",
    "# TESTING BEGINS: PULL SINGLE\n",
    "BigDFT.Logger.info('PULL: SINGLE')\n",
    "u.cmd(f'rm -r {local_dir}/test*', suppress_warn=True, local=True)\n",
    "u.rsync(['test_1'],\n",
    "       origin=f'{local_dir}',\n",
    "       target=f'{remote_dir}',\n",
    "       push=False)\n",
    "\n",
    "after = u.ls(f'{local_dir}', local=True)\n",
    "print('pull single:', after)\n",
    "\n",
    "# again, with cp_fallback forced\n",
    "BigDFT.Logger.info('force enabling cp_fallback and repeating tests')\n",
    "if u.local:\n",
    "    u._permissions['rsync'] = u._rsync_cp_fallback\n",
    "    u.cmd(f'touch {local_dir}/test_{{1,2,3}}')\n",
    "\n",
    "    # TESTING BEGINS: PUSH MULTIPLE (CP)\n",
    "    BigDFT.Logger.info('CP PUSH: MULTIPLE')\n",
    "    u.cmd(f'rm -r {remote_dir}/test*', suppress_warn=True)\n",
    "    u.rsync(['test_1','test_2','test_3'],\n",
    "           origin=f'{local_dir}',\n",
    "           target=f'{remote_dir}',\n",
    "           push=True)\n",
    "\n",
    "    after = u.ls(f'{remote_dir}')\n",
    "    print('push multiple (cp)', after)\n",
    "\n",
    "    # TESTING BEGINS: PULL MULTIPLE (CP)\n",
    "    BigDFT.Logger.info('CP PULL: MULTIPLE')\n",
    "    u.cmd(f'rm -r {local_dir}/test*', suppress_warn=True)\n",
    "    u.rsync(['test_1','test_2','test_3'],\n",
    "           origin=f'{local_dir}',\n",
    "           target=f'{remote_dir}',\n",
    "           push=False)\n",
    "\n",
    "    after = u.ls(f'{local_dir}')\n",
    "    print('pull multiple (cp)', after)\n",
    "\n",
    "    # TESTING BEGINS: PUSH SINGLE (CP)\n",
    "    BigDFT.Logger.info('CP PUSH: SINGLE')\n",
    "    u.cmd(f'rm -r {remote_dir}/test*', suppress_warn=True)\n",
    "\n",
    "    u.rsync(['test_1'],\n",
    "           origin=f'{local_dir}',\n",
    "           target=f'{remote_dir}',\n",
    "           push=True)\n",
    "\n",
    "    after = u.ls(f'{remote_dir}')\n",
    "    print('push single (cp)', after)\n",
    "\n",
    "    # TESTING BEGINS: PULL SINGLE (CP)\n",
    "    BigDFT.Logger.info('CP PULL: SINGLE')\n",
    "    u.cmd(f'rm -r {local_dir}/test*', suppress_warn=True)\n",
    "\n",
    "    u.rsync(['test_1'],\n",
    "           origin=f'{local_dir}',\n",
    "           target=f'{remote_dir}',\n",
    "           push=False)\n",
    "\n",
    "    after = u.ls(f'{local_dir}')\n",
    "    print('pull single (cp)', after)"
   ]
  },
  {
   "cell_type": "code",
   "execution_count": 11,
   "id": "46295f0e",
   "metadata": {},
   "outputs": [
    {
     "name": "stdout",
     "output_type": "stream",
     "text": [
      "{'test_1': True, 'test_2': True, 'test_3': True, 'test_4': False}\n",
      "{'test_1': True}\n"
     ]
    }
   ],
   "source": [
    "# NBVAL_CHECK_OUTPUT\n",
    "# Utils testing\n",
    "BigDFT.Logger.info('utils testing begins')\n",
    "u.cmd('mkdir ./scancheck')\n",
    "\n",
    "files = ['test_1',\n",
    "        'test_2',\n",
    "        'test_3',\n",
    "        'test_4']\n",
    "\n",
    "for file in files[:-1]:\n",
    "    u.utils.touch(f'./scancheck/{file}')\n",
    "    \n",
    "presence_list = u.utils.search_folder(files, './scancheck')\n",
    "presence_one = u.utils.search_folder(files[0], './scancheck')\n",
    "\n",
    "u.cmd('rm -r ./scancheck')\n",
    "\n",
    "print(presence_list)\n",
    "print(presence_one)"
   ]
  }
 ],
 "metadata": {
  "kernelspec": {
   "display_name": "Python 3 (ipykernel)",
   "language": "python",
   "name": "python3"
  },
  "language_info": {
   "codemirror_mode": {
    "name": "ipython",
    "version": 3
   },
   "file_extension": ".py",
   "mimetype": "text/x-python",
   "name": "python",
   "nbconvert_exporter": "python",
   "pygments_lexer": "ipython3",
   "version": "3.8.10"
  }
 },
 "nbformat": 4,
 "nbformat_minor": 5
}
