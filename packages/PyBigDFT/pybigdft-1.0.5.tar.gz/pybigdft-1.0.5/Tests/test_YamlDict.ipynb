{
 "cells": [
  {
   "cell_type": "code",
   "execution_count": 1,
   "id": "2adbb8f1",
   "metadata": {},
   "outputs": [],
   "source": [
    "import sys\n",
    "import os\n",
    "import time\n",
    "\n",
    "sys.path.insert(0, '..')\n",
    "sys.path.insert(0, '../../futile/python')\n",
    "\n",
    "package = 'YamlDict'\n",
    "\n",
    "import BigDFT\n",
    "BigDFT.Logger.path = os.path.join(os.getcwd(), f'BigDFT_test{package}.yaml')\n",
    "BigDFT.Logger.level = 'debug'\n",
    "BigDFT.Logger.overwrite = True\n",
    "BigDFT.Logger.info(f'{package} unit testing begins')"
   ]
  },
  {
   "cell_type": "code",
   "execution_count": 2,
   "id": "c0d9afab",
   "metadata": {},
   "outputs": [],
   "source": [
    "from BigDFT.YamlDict import YamlDict\n",
    "name = 'test.yaml'\n",
    "\n",
    "def dict_to_str(d):\n",
    "    if len(d) == 0:\n",
    "        return '{}'\n",
    "    ret = ['{']\n",
    "    for key in sorted(d.keys()):\n",
    "        val = d[key]\n",
    "        \n",
    "        if isinstance(val, dict):\n",
    "            val = dict_to_str(val)\n",
    "        ret.append(f'{key}: {val}, ')\n",
    "            \n",
    "    return ''.join(ret)[:-2] + '}'\n",
    "\n",
    "def wipe(name='test.yaml'):    \n",
    "    with open(name, 'w') as w:\n",
    "        w.write('')\n",
    "        \n",
    "    return name\n",
    "\n",
    "dbname = wipe(name)"
   ]
  },
  {
   "cell_type": "code",
   "execution_count": 3,
   "id": "c657ae75",
   "metadata": {},
   "outputs": [
    {
     "name": "stdout",
     "output_type": "stream",
     "text": [
      "{testvariable: test}\n"
     ]
    }
   ],
   "source": [
    "# NBVAL_CHECK_OUTPUT\n",
    "# test initialisation from dicttype\n",
    "wipe()\n",
    "\n",
    "testyaml = YamlDict({'testvariable': 'test'}, dbname)\n",
    "\n",
    "print(dict_to_str(testyaml.dict))"
   ]
  },
  {
   "cell_type": "code",
   "execution_count": 4,
   "id": "bd459408",
   "metadata": {},
   "outputs": [
    {
     "name": "stdout",
     "output_type": "stream",
     "text": [
      "{testing a sent value: this is a test}\n"
     ]
    }
   ],
   "source": [
    "# NBVAL_CHECK_OUTPUT\n",
    "# check value transmission across dicts\n",
    "wipe()\n",
    "\n",
    "sender = YamlDict({'testing a sent value':'this is a test'}, dbname)\n",
    "\n",
    "receiver = YamlDict(fname=dbname)\n",
    "\n",
    "print(dict_to_str(receiver.dict))"
   ]
  },
  {
   "cell_type": "code",
   "execution_count": 5,
   "id": "cac4ccbc",
   "metadata": {},
   "outputs": [
    {
     "name": "stdout",
     "output_type": "stream",
     "text": [
      "{a: {c: 3}, b: 2, testing a sent value: this is a test}\n"
     ]
    }
   ],
   "source": [
    "# NBVAL_CHECK_OUTPUT\n",
    "# test nested values, deletion and assignment\n",
    "\n",
    "nested = YamlDict({'a': 1}, dbname)\n",
    "\n",
    "nested['b'] = 2\n",
    "nested['a'] = {'c': 3}\n",
    "nested['delete_me'] = 4\n",
    "del nested['delete_me']\n",
    "\n",
    "print(dict_to_str(nested))"
   ]
  },
  {
   "cell_type": "code",
   "execution_count": 6,
   "id": "04914572",
   "metadata": {},
   "outputs": [
    {
     "name": "stdout",
     "output_type": "stream",
     "text": [
      "False\n",
      "True\n"
     ]
    }
   ],
   "source": [
    "# NBVAL_CHECK_OUTPUT\n",
    "# equality checking\n",
    "wipe()\n",
    "\n",
    "a = YamlDict({'a': 4}, dbname)\n",
    "b = YamlDict({'a': 5}, dbname)\n",
    "c = YamlDict(fname=dbname)\n",
    "c['a'] = 4\n",
    "\n",
    "print(a == b)\n",
    "print(a == c)"
   ]
  },
  {
   "cell_type": "code",
   "execution_count": 7,
   "id": "1c91397d",
   "metadata": {},
   "outputs": [
    {
     "name": "stdout",
     "output_type": "stream",
     "text": [
      "{test_list: [1, 2, 3], test_str: test}\n",
      "<class 'list'>\n"
     ]
    }
   ],
   "source": [
    "# NBVAL_CHECK_OUTPUT\n",
    "# create a yaml file and initialise from it\n",
    "# also tests that lists behave\n",
    "wipe()\n",
    "\n",
    "yamlfile = \"\"\"'test_list':\n",
    "    - 1\n",
    "    - 2\n",
    "    - 3\n",
    "'test_str': 'test'\n",
    "\"\"\"\n",
    "\n",
    "with open('fromyaml.yaml', 'w+') as o:\n",
    "    o.write(yamlfile)\n",
    "    \n",
    "fromfile = YamlDict(fname='fromyaml.yaml')\n",
    "\n",
    "print(dict_to_str(fromfile.dict))\n",
    "print(type(fromfile.dict['test_list']))"
   ]
  },
  {
   "cell_type": "code",
   "execution_count": 8,
   "id": "d4d83eea",
   "metadata": {},
   "outputs": [
    {
     "name": "stdout",
     "output_type": "stream",
     "text": [
      "test.yaml\n",
      "test.yaml\n",
      "test.yaml\n",
      "test.yml\n",
      "test.case.yaml\n"
     ]
    }
   ],
   "source": [
    "# NBVAL_CHECK_OUTPUT\n",
    "# check naming enforcement\n",
    "testcases = ['test',\n",
    "             'test.case',\n",
    "             'test.txt',\n",
    "             'test.yml',\n",
    "             'test.case.txt']\n",
    "\n",
    "for case in testcases:\n",
    "    corrected = YamlDict._validate_name(case)\n",
    "    \n",
    "    # need to remove lower level directories\n",
    "    print(corrected.split('/')[-1])"
   ]
  },
  {
   "cell_type": "code",
   "execution_count": 9,
   "id": "abbbfa6d",
   "metadata": {},
   "outputs": [
    {
     "name": "stdout",
     "output_type": "stream",
     "text": [
      "{initial: should be present}\n",
      "{initial: should be present, newval: shouldnt overwrite}\n",
      "{cleaned: value}\n",
      "{}\n"
     ]
    }
   ],
   "source": [
    "# NBVAL_CHECK_OUTPUT\n",
    "# initialising on top of a file with initial dict should merge, rather than overwrite\n",
    "wipe()\n",
    "\n",
    "a = YamlDict({'initial': 'should be present'}, fname=dbname)\n",
    "print(dict_to_str(a.dict))\n",
    "\n",
    "b = YamlDict({'newval': 'shouldnt overwrite'}, fname=dbname)\n",
    "print(dict_to_str(b.dict))\n",
    "\n",
    "# now force overwrite\n",
    "c = YamlDict({'cleaned': 'value'}, fname=dbname, overwrite=True)\n",
    "print(dict_to_str(c.dict))\n",
    "\n",
    "# overwrite with empty dict\n",
    "d = YamlDict(fname=dbname, overwrite=True)\n",
    "print(dict_to_str(d.dict))"
   ]
  },
  {
   "cell_type": "code",
   "execution_count": 10,
   "id": "006a88a9",
   "metadata": {},
   "outputs": [
    {
     "name": "stdout",
     "output_type": "stream",
     "text": [
      "{initval: 1}\n",
      "newval =  2\n",
      "{initval: 1, newval: 2}\n"
     ]
    }
   ],
   "source": [
    "# NBVAL_CHECK_OUTPUT\n",
    "# test updating a linked dict\n",
    "wipe()\n",
    "\n",
    "# create linked dicts\n",
    "a = YamlDict({'initval': 1}, fname=dbname)\n",
    "b = YamlDict(fname=dbname)\n",
    "\n",
    "print(dict_to_str(b.dict))\n",
    "a['newval'] = 2  # set a new val in dict a\n",
    "# verify that it can be accessed in dict b\n",
    "print('newval = ', b['newval'])\n",
    "print(dict_to_str(b.dict))"
   ]
  }
 ],
 "metadata": {
  "kernelspec": {
   "display_name": "Python 3 (ipykernel)",
   "language": "python",
   "name": "python3"
  },
  "language_info": {
   "codemirror_mode": {
    "name": "ipython",
    "version": 3
   },
   "file_extension": ".py",
   "mimetype": "text/x-python",
   "name": "python",
   "nbconvert_exporter": "python",
   "pygments_lexer": "ipython3",
   "version": "3.8.10"
  }
 },
 "nbformat": 4,
 "nbformat_minor": 5
}
