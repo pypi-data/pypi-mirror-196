{
 "cells": [
  {
   "cell_type": "code",
   "execution_count": 1,
   "metadata": {},
   "outputs": [],
   "source": [
    "import sys\n",
    "import os\n",
    "import time\n",
    "\n",
    "sys.path.insert(0, '..')\n",
    "sys.path.insert(0, '../../futile/python')\n",
    "\n",
    "package = 'RemoteRunner'\n",
    "\n",
    "import BigDFT\n",
    "BigDFT.Logger.path = os.path.join(os.getcwd(), f'BigDFT_test{package}.yaml')\n",
    "BigDFT.Logger.level = 'debug'\n",
    "BigDFT.Logger.overwrite = True\n",
    "BigDFT.Logger.info(f'{package} unit testing begins')\n",
    "\n",
    "import BigDFT.RemoteRunners as r\n",
    "\n",
    "from BigDFT.URL import URL\n",
    "\n",
    "remote_dir = os.path.join(os.getcwd(), f'fake_remote_{package}')\n",
    "local_dir = os.path.join(os.getcwd(), f'fake_local_{package}')\n",
    "\n",
    "print(f'running with:\\nremote dir: {remote_dir}\\nlocal dir: {local_dir}')"
   ]
  },
  {
   "cell_type": "code",
   "execution_count": 2,
   "metadata": {},
   "outputs": [],
   "source": [
    "maxtime = 20\n",
    "def remote_func(arg):\n",
    "    return arg"
   ]
  },
  {
   "cell_type": "code",
   "execution_count": 3,
   "metadata": {},
   "outputs": [
    {
     "name": "stdout",
     "output_type": "stream",
     "text": [
      "cmd returned: \n",
      "cmd returned: \n",
      "cmd returned: \n",
      "cmd returned: \n",
      "sending ['remote_func-run.sh', 'remote_func-function-files.tar.gz', 'remote_func-function-run.py']\n",
      "from /home/test/bigdft-suite/PyBigDFT/Tests/fake_local_RemoteRunner to /home/test/bigdft-suite/PyBigDFT/Tests/fake_remote_RemoteRunner\n",
      "cmd returned: sending incremental file list\n",
      "remote_func-function-files.tar.gz\n",
      "remote_func-function-run.py\n",
      "remote_func-run.sh\n",
      "\n",
      "sent 2,158 bytes  received 73 bytes  4,462.00 bytes/sec\n",
      "total size is 1,905  speedup is 0.85\n",
      "\n",
      "Checking for finished run... locally... cmd returned: remote_func-function-files.tar.gz\n",
      "remote_func-function-run.py\n",
      "remote_func-run.sh\n",
      "\n",
      "No (No result file)\n",
      "Checking for finished run... locally... cmd returned: remote_func-function-files.tar.gz\n",
      "remote_func-function-result.json\n",
      "remote_func-function-run.py\n",
      "remote_func-run.sh\n",
      "\n",
      "Yes (And recent run)\n",
      "Checking for finished run... locally... cmd returned: remote_func-function-files.tar.gz\n",
      "remote_func-function-result.json\n",
      "remote_func-function-run.py\n",
      "remote_func-run.sh\n",
      "\n",
      "Yes (Found a results file)\n",
      "sending ['remote_func-function-result.json']\n",
      "from /home/test/bigdft-suite/PyBigDFT/Tests/fake_remote_RemoteRunner to /home/test/bigdft-suite/PyBigDFT/Tests/fake_local_RemoteRunner\n",
      "cmd returned: sending incremental file list\n",
      "remote_func-function-result.json\n",
      "\n",
      "sent 143 bytes  received 35 bytes  356.00 bytes/sec\n",
      "total size is 13  speedup is 0.07\n",
      "\n"
     ]
    }
   ],
   "source": [
    "BigDFT.Logger.info('checking a basic run')\n",
    "url = URL(verbose=True)\n",
    "url.cmd(f'rm -r {local_dir}/*', suppress_warn=True)\n",
    "url.cmd(f'rm -r {remote_dir}/*', suppress_warn=True)\n",
    "url.test_connection(verbose=False)\n",
    "\n",
    "remote_run = r.RemoteRunner(function=remote_func,\n",
    "                            url=url,                              \n",
    "                            remote_dir=remote_dir,\n",
    "                            local_dir=local_dir,\n",
    "                            script='#!/bin/bash',\n",
    "                            arguments=dict(arg='Hello world'),\n",
    "                            verbose=True,\n",
    "                            skip=False)\n",
    "\n",
    "remote_run.run()\n",
    "\n",
    "while not remote_run.is_finished(anyfile=False, timeout=maxtime):\n",
    "    time.sleep(1)\n",
    "result = remote_run.fetch_result()"
   ]
  },
  {
   "cell_type": "code",
   "execution_count": 4,
   "metadata": {},
   "outputs": [
    {
     "name": "stdout",
     "output_type": "stream",
     "text": [
      "Hello world\n"
     ]
    }
   ],
   "source": [
    "# NBVAL_CHECK_OUTPUT\n",
    "# check a basic run\n",
    "\n",
    "print(result)"
   ]
  },
  {
   "cell_type": "code",
   "execution_count": 5,
   "metadata": {},
   "outputs": [
    {
     "name": "stdout",
     "output_type": "stream",
     "text": [
      "cmd returned: \n",
      "cmd returned: \n",
      "cmd returned: remote_func-function-files.tar.gz\n",
      "remote_func-function-result.json\n",
      "remote_func-function-run.py\n",
      "remote_func-run.sh\n",
      "\n",
      "cmd returned: \n",
      "Checking for finished run... locally... cmd returned: remote_func-function-files.tar.gz\n",
      "remote_func-function-result.json\n",
      "remote_func-function-run.py\n",
      "remote_func-run.sh\n",
      "\n",
      "Yes (Found a results file)\n",
      "sending ['remote_func-function-result.json']\n",
      "from /home/test/bigdft-suite/PyBigDFT/Tests/fake_remote_RemoteRunner to /home/test/bigdft-suite/PyBigDFT/Tests/fake_local_RemoteRunner\n",
      "cmd returned: sending incremental file list\n",
      "\n",
      "sent 83 bytes  received 12 bytes  190.00 bytes/sec\n",
      "total size is 13  speedup is 0.14\n",
      "\n",
      "Checking for finished run... locally... cmd returned: remote_func-function-files.tar.gz\n",
      "remote_func-function-result.json\n",
      "remote_func-function-run.py\n",
      "remote_func-run.sh\n",
      "\n",
      "Yes (And recent run)\n",
      "Checking for finished run... locally... cmd returned: remote_func-function-files.tar.gz\n",
      "remote_func-function-result.json\n",
      "remote_func-function-run.py\n",
      "remote_func-run.sh\n",
      "\n",
      "Yes (Found a results file)\n",
      "sending ['remote_func-run.sh', 'remote_func-function-files.tar.gz', 'remote_func-function-run.py']\n",
      "from /home/test/bigdft-suite/PyBigDFT/Tests/fake_local_RemoteRunner to /home/test/bigdft-suite/PyBigDFT/Tests/fake_remote_RemoteRunner\n",
      "cmd returned: sending incremental file list\n",
      "remote_func-function-files.tar.gz\n",
      "remote_func-function-run.py\n",
      "remote_func-run.sh\n",
      "\n",
      "sent 2,163 bytes  received 73 bytes  4,472.00 bytes/sec\n",
      "total size is 1,910  speedup is 0.85\n",
      "\n",
      "cmd returned: \n",
      "Checking for finished run... locally... cmd returned: remote_func-function-files.tar.gz\n",
      "remote_func-function-result.json\n",
      "remote_func-function-run.py\n",
      "remote_func-run.sh\n",
      "\n",
      "Yes (Found a results file)\n",
      "sending ['remote_func-function-result.json']\n",
      "from /home/test/bigdft-suite/PyBigDFT/Tests/fake_remote_RemoteRunner to /home/test/bigdft-suite/PyBigDFT/Tests/fake_local_RemoteRunner\n",
      "cmd returned: sending incremental file list\n",
      "remote_func-function-result.json\n",
      "\n",
      "sent 148 bytes  received 35 bytes  366.00 bytes/sec\n",
      "total size is 18  speedup is 0.10\n",
      "\n",
      "Checking for finished run... locally... cmd returned: remote_func-function-files.tar.gz\n",
      "remote_func-function-result.json\n",
      "remote_func-function-run.py\n",
      "remote_func-run.sh\n",
      "\n",
      "Yes (And recent run)\n",
      "Checking for finished run... locally... cmd returned: remote_func-function-files.tar.gz\n",
      "remote_func-function-result.json\n",
      "remote_func-function-run.py\n",
      "remote_func-run.sh\n",
      "\n",
      "Yes (Found a results file)\n"
     ]
    }
   ],
   "source": [
    "BigDFT.Logger.info('testing skip=True')\n",
    "remote_run = r.RemoteRunner(function=remote_func,\n",
    "                            url=url,                              \n",
    "                            remote_dir=remote_dir,\n",
    "                            local_dir=local_dir,\n",
    "                            script='#!/bin/bash',\n",
    "                            arguments=dict(arg=\"Don't print this\"),\n",
    "                            verbose=True,\n",
    "                            rsync='auv')\n",
    "# initial run should print old result\n",
    "remote_run.run(skip=True, asynchronous=False)\n",
    "idx = 0\n",
    "while not remote_run.is_finished(anyfile=False):\n",
    "    time.sleep(1)\n",
    "    idx += 1\n",
    "    if idx >= maxtime:\n",
    "        raise ValueError('search timed out!')\n",
    "result1 = remote_run.fetch_result()\n",
    "\n",
    "BigDFT.Logger.info('testing force=True')\n",
    "# followup run should force new result through\n",
    "# delay is required or the \"results stealing\" bug will rear its ugly head\n",
    "time.sleep(5)\n",
    "remote_run.run(force=True, asynchronous=False)\n",
    "while not remote_run.is_finished(anyfile=False, timeout=maxtime):\n",
    "    time.sleep(1)\n",
    "result2 = remote_run.fetch_result()"
   ]
  },
  {
   "cell_type": "code",
   "execution_count": 6,
   "metadata": {},
   "outputs": [
    {
     "name": "stdout",
     "output_type": "stream",
     "text": [
      "Hello world\n",
      "Don't print this\n"
     ]
    }
   ],
   "source": [
    "# NBVAL_CHECK_OUTPUT\n",
    "# check that skip works\n",
    "print(result1)\n",
    "print(result2)"
   ]
  },
  {
   "cell_type": "markdown",
   "metadata": {},
   "source": [
    "is_finished tests to follow"
   ]
  },
  {
   "cell_type": "code",
   "execution_count": 7,
   "metadata": {},
   "outputs": [
    {
     "name": "stdout",
     "output_type": "stream",
     "text": [
      "\n",
      "######## local permissions ########\n",
      "creating test folder /URL_connection_test\n",
      "\tpermission denied, trying again in /home/test\n",
      "creating test folder /home/test/URL_connection_test\n",
      "\tsuccess, cleaning up\n",
      "\n",
      "######## local permissions ########\n",
      "creating test folder /URL_connection_test\n",
      "\tpermission denied, trying again in /home/test\n",
      "creating test folder /home/test/URL_connection_test\n",
      "\tsuccess, cleaning up\n",
      "\n",
      "######## file push test ########\n",
      "test push testfile_push from /home/test/rsync_test_local to /home/test/rsync_test_local\n",
      "\tsuccess, cleaning up\n",
      "\n",
      "######## file pull test ########\n",
      "test pull testfile_pull from /home/test/rsync_test_remote to /home/test/rsync_test_local\n",
      "\tsuccess, cleaning up\n",
      "used 26 cmd calls for this test, taking 0.11 seconds (averaging 0.00s per call)\n"
     ]
    }
   ],
   "source": [
    "def func_with_delay(t):\n",
    "    import time\n",
    "    time.sleep(t)\n",
    "    return t\n",
    "\n",
    "internal_delay = 3  # delay for function\n",
    "external_delay = 6  # delay to wait for result\n",
    "\n",
    "url = URL(verbose=False)\n",
    "url.test_connection()\n",
    "BigDFT.Logger.info(f'testing is_finished')\n",
    "url.cmd(f'rm -r {local_dir}/*', suppress_warn=True)\n",
    "url.cmd(f'rm -r {remote_dir}/*', suppress_warn=True)\n",
    "delayrunner = r.RemoteRunner(function=func_with_delay,\n",
    "                             url=url,                              \n",
    "                             remote_dir=remote_dir,\n",
    "                             local_dir=local_dir,\n",
    "                             script='#!/bin/bash',\n",
    "                             arguments=dict(t=internal_delay),\n",
    "                             verbose=True,\n",
    "                             skip=False)"
   ]
  },
  {
   "cell_type": "code",
   "execution_count": 8,
   "metadata": {},
   "outputs": [
    {
     "name": "stdout",
     "output_type": "stream",
     "text": [
      "Checking for finished run... locally... Yes (Found a results file)\n",
      "Checking for finished run... locally... Yes (Found a results file)\n",
      "Checking for finished run... locally... Yes (Found a results file)\n",
      "3\n"
     ]
    }
   ],
   "source": [
    "# NBVAL_CHECK_OUTPUT\n",
    "BigDFT.Logger.info('basic run and check')\n",
    "delayrunner.run(asynchronous=False)\n",
    "while not delayrunner.is_finished(timeout=maxtime):\n",
    "    time.sleep(external_delay)\n",
    "print(delayrunner.fetch_result())"
   ]
  },
  {
   "cell_type": "code",
   "execution_count": 9,
   "metadata": {},
   "outputs": [
    {
     "name": "stdout",
     "output_type": "stream",
     "text": [
      "Checking for finished run... locally... Yes (Found a results file)\n",
      "Checking for finished run... locally... Yes (And recent run)\n",
      "Checking for finished run... locally... Yes (Found a results file)\n",
      "3\n"
     ]
    }
   ],
   "source": [
    "# NBVAL_CHECK_OUTPUT\n",
    "BigDFT.Logger.info('testing with skip=False (rerun check)')\n",
    "time.sleep(1)\n",
    "delayrunner.run(skip=False, asynchronous=False)\n",
    "while not delayrunner.is_finished(anyfile=False, timeout=maxtime):\n",
    "    time.sleep(external_delay)\n",
    "print(delayrunner.fetch_result())"
   ]
  },
  {
   "cell_type": "code",
   "execution_count": 10,
   "metadata": {},
   "outputs": [
    {
     "name": "stdout",
     "output_type": "stream",
     "text": [
      "Checking for finished run... locally... Yes (Found a results file)\n",
      "Checking for finished run... locally... Yes (And recent run)\n",
      "Checking for finished run... locally... Yes (Found a results file)\n",
      "3\n"
     ]
    }
   ],
   "source": [
    "# NBVAL_CHECK_OUTPUT\n",
    "BigDFT.Logger.info('checking with skip=True (pickup check)')\n",
    "time.sleep(1)\n",
    "delayrunner.run(skip=True, asynchronous=False)\n",
    "while not delayrunner.is_finished(anyfile=False, timeout=maxtime):\n",
    "    time.sleep(external_delay)\n",
    "print(delayrunner.fetch_result())"
   ]
  },
  {
   "cell_type": "code",
   "execution_count": 11,
   "metadata": {},
   "outputs": [
    {
     "name": "stdout",
     "output_type": "stream",
     "text": [
      "Checking for finished run... locally... No (No result file)\n",
      "Checking for finished run... locally... No (No result file)\n",
      "Checking for finished run... locally... No (No result file)\n",
      "expected timeout error\n"
     ]
    }
   ],
   "source": [
    "# NBVAL_CHECK_OUTPUT\n",
    "# should time out\n",
    "BigDFT.Logger.info('checking that a run without results correctly times out')\n",
    "url.cmd(f'rm -r {remote_dir}/*', suppress_warn=True)\n",
    "try:\n",
    "    while not delayrunner.is_finished(anyfile=False, timeout=3):\n",
    "        time.sleep(1)\n",
    "except ValueError as E:\n",
    "    if \"timed out\" in str(E):\n",
    "        print('expected timeout error')\n",
    "    else:\n",
    "        raise E"
   ]
  },
  {
   "cell_type": "markdown",
   "metadata": {},
   "source": [
    "# Check that a runner cannot wait for itself"
   ]
  },
  {
   "cell_type": "code",
   "execution_count": 12,
   "metadata": {},
   "outputs": [],
   "source": [
    "BigDFT.Logger.info('testing runner.wait')\n",
    "\n",
    "def simple_func():\n",
    "    return 'finished!'\n",
    "\n",
    "url.cmd(f'rm -r {local_dir}/*', suppress_warn=True)\n",
    "url.cmd(f'rm -r {remote_dir}/*', suppress_warn=True)\n",
    "delayrunner = r.RemoteRunner(function=func_with_delay,\n",
    "                             url=url,                              \n",
    "                             remote_dir=remote_dir,\n",
    "                             local_dir=local_dir,\n",
    "                             script='#!/bin/bash',\n",
    "                             arguments=dict(t=internal_delay),\n",
    "                             verbose=True,\n",
    "                             skip=False)\n",
    "\n",
    "secondaryrunner = r.RemoteRunner(function=simple_func,\n",
    "                                 url=url,                              \n",
    "                                 remote_dir=remote_dir,\n",
    "                                 local_dir=local_dir,\n",
    "                                 script='#!/bin/bash',\n",
    "                                 verbose=True,\n",
    "                                 skip=False)\n",
    "secondaryrunner.wait(delayrunner)"
   ]
  },
  {
   "cell_type": "code",
   "execution_count": 13,
   "metadata": {},
   "outputs": [
    {
     "name": "stdout",
     "output_type": "stream",
     "text": [
      "Checking for finished run... locally... No (No result file)\n",
      "previous run is not complete! Skipping this run\n"
     ]
    }
   ],
   "source": [
    "# NBVAL_CHECK_OUTPUT\n",
    "delayrunner.run(skip=False, force=True)\n",
    "secondaryrunner.run()"
   ]
  },
  {
   "cell_type": "code",
   "execution_count": 14,
   "metadata": {},
   "outputs": [
    {
     "name": "stdout",
     "output_type": "stream",
     "text": [
      "Checking for finished run... locally... Yes (Found a results file)\n"
     ]
    }
   ],
   "source": [
    "# NBVAL_CHECK_OUTPUT\n",
    "time.sleep(internal_delay * 2)\n",
    "secondaryrunner.run()"
   ]
  },
  {
   "cell_type": "code",
   "execution_count": 15,
   "metadata": {},
   "outputs": [
    {
     "name": "stdout",
     "output_type": "stream",
     "text": [
      "Checking for finished run... locally... Yes (Found a results file)\n"
     ]
    },
    {
     "data": {
      "text/plain": [
       "'finished!'"
      ]
     },
     "execution_count": 15,
     "metadata": {},
     "output_type": "execute_result"
    }
   ],
   "source": [
    "# NBVAL_CHECK_OUTPUT\n",
    "time.sleep(1)\n",
    "secondaryrunner.fetch_result()"
   ]
  },
  {
   "cell_type": "code",
   "execution_count": 16,
   "metadata": {},
   "outputs": [],
   "source": [
    "BigDFT.Logger.info('testing that a run will not wait for itself')\n",
    "\n",
    "runner = r.RemoteRunner(function = simple_func)"
   ]
  },
  {
   "cell_type": "code",
   "execution_count": 17,
   "metadata": {},
   "outputs": [
    {
     "name": "stdout",
     "output_type": "stream",
     "text": [
      "awaiting self would render the runner unable to run!\n"
     ]
    }
   ],
   "source": [
    "# NBVAL_CHECK_OUTPUT\n",
    "try:\n",
    "    runner.wait(runner, anyfile=False)\n",
    "\n",
    "    runner.run()\n",
    "    print('runner has run successfully..?')\n",
    "except ValueError as E:\n",
    "    print(E)"
   ]
  },
  {
   "cell_type": "markdown",
   "metadata": {},
   "source": [
    "# Test that CallableAttrDict scripts behave"
   ]
  },
  {
   "cell_type": "code",
   "execution_count": 18,
   "metadata": {},
   "outputs": [],
   "source": [
    "from BigDFT.RemoteRunnerUtils import CallableAttrDict\n",
    "\n",
    "class local(CallableAttrDict):\n",
    "    def __init__(self):\n",
    "        self.submitter = 'bash'  # this should be ignored by the runner\n",
    "        \n",
    "    def __str__(self):\n",
    "        return \"#!/bin/bash\\n\"\n",
    "    \n",
    "script = local()"
   ]
  },
  {
   "cell_type": "code",
   "execution_count": 19,
   "metadata": {},
   "outputs": [
    {
     "name": "stdout",
     "output_type": "stream",
     "text": [
      "extracting attributes from callable script\n",
      "Checking for finished run... locally... Yes (Found a results file)\n"
     ]
    },
    {
     "data": {
      "text/plain": [
       "'finished!'"
      ]
     },
     "execution_count": 19,
     "metadata": {},
     "output_type": "execute_result"
    }
   ],
   "source": [
    "# NBVAL_CHECK_OUTPUT\n",
    "\n",
    "# inputs should be ignored, and run as expected\n",
    "runner = r.RemoteRunner(function = simple_func,\n",
    "                        submitter = 'fail',  # ordinarily this would not work\n",
    "                        script = script)\n",
    "\n",
    "runner.run()\n",
    "time.sleep(1)\n",
    "runner.fetch_result()"
   ]
  },
  {
   "cell_type": "code",
   "execution_count": 20,
   "metadata": {},
   "outputs": [
    {
     "name": "stdout",
     "output_type": "stream",
     "text": [
      "failed as expected\n"
     ]
    }
   ],
   "source": [
    "# NBVAL_CHECK_OUTPUT\n",
    "try:\n",
    "    runner = r.RemoteRunner(function = simple_func,\n",
    "                            script = local)\n",
    "except ValueError as E:\n",
    "    if \"script has not been called\" in str(E):\n",
    "        print('failed as expected')"
   ]
  }
 ],
 "metadata": {
  "kernelspec": {
   "display_name": "Python 3",
   "language": "python",
   "name": "python3"
  },
  "language_info": {
   "codemirror_mode": {
    "name": "ipython",
    "version": 3
   },
   "file_extension": ".py",
   "mimetype": "text/x-python",
   "name": "python",
   "nbconvert_exporter": "python",
   "pygments_lexer": "ipython3",
   "version": "3.8.10"
  }
 },
 "nbformat": 4,
 "nbformat_minor": 5
}
