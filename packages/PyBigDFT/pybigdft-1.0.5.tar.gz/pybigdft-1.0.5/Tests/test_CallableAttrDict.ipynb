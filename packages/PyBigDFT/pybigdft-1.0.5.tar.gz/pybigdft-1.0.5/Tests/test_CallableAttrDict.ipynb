{
 "cells": [
  {
   "cell_type": "code",
   "execution_count": 1,
   "id": "5593d6f7",
   "metadata": {},
   "outputs": [],
   "source": [
    "import sys\n",
    "import os\n",
    "import time\n",
    "\n",
    "sys.path.insert(0, '..')\n",
    "sys.path.insert(0, '../../futile/python')\n",
    "\n",
    "package = 'CallableAttrDict'\n",
    "\n",
    "import BigDFT\n",
    "BigDFT.Logger.path = os.path.join(os.getcwd(), f'BigDFT_test{package}.yaml')\n",
    "BigDFT.Logger.level = 'debug'\n",
    "BigDFT.Logger.overwrite = True\n",
    "BigDFT.Logger.info(f'{package} unit testing begins')"
   ]
  },
  {
   "cell_type": "code",
   "execution_count": 2,
   "id": "59b5d3af",
   "metadata": {},
   "outputs": [
    {
     "name": "stdout",
     "output_type": "stream",
     "text": [
      "1\n"
     ]
    }
   ],
   "source": [
    "# NBVAL_CHECK_OUTPUT\n",
    "BigDFT.Logger.info('CallableAttrDict tests')\n",
    "from BigDFT.RemoteRunnerUtils import CallableAttrDict\n",
    "d = CallableAttrDict({'a': 1})\n",
    "print(d.a)"
   ]
  }
 ],
 "metadata": {
  "kernelspec": {
   "display_name": "Python 3 (ipykernel)",
   "language": "python",
   "name": "python3"
  },
  "language_info": {
   "codemirror_mode": {
    "name": "ipython",
    "version": 3
   },
   "file_extension": ".py",
   "mimetype": "text/x-python",
   "name": "python",
   "nbconvert_exporter": "python",
   "pygments_lexer": "ipython3",
   "version": "3.8.10"
  }
 },
 "nbformat": 4,
 "nbformat_minor": 5
}
