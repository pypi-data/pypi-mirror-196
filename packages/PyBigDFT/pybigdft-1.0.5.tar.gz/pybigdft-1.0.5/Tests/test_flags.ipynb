{
 "cells": [
  {
   "cell_type": "code",
   "execution_count": 1,
   "id": "cee5f226",
   "metadata": {},
   "outputs": [],
   "source": [
    "import sys\n",
    "import os\n",
    "import time\n",
    "\n",
    "sys.path.insert(0, '..')\n",
    "sys.path.insert(0, '../../futile/python')\n",
    "\n",
    "package = 'URL_Flags'\n",
    "\n",
    "import BigDFT\n",
    "BigDFT.Logger.path = os.path.join(os.getcwd(), f'BigDFT_test{package}.yaml')\n",
    "BigDFT.Logger.level = 'debug'\n",
    "BigDFT.Logger.overwrite = True\n",
    "BigDFT.Logger.info(f'{package} unit testing begins')"
   ]
  },
  {
   "cell_type": "code",
   "execution_count": 2,
   "id": "82892169",
   "metadata": {},
   "outputs": [],
   "source": [
    "import BigDFT.URL as URL"
   ]
  },
  {
   "cell_type": "code",
   "execution_count": 3,
   "id": "a719bd30",
   "metadata": {},
   "outputs": [
    {
     "name": "stdout",
     "output_type": "stream",
     "text": [
      "-aaaa\n"
     ]
    }
   ],
   "source": [
    "# NBVAL_CHECK_OUTPUT\n",
    "# check instantisation\n",
    "f = URL.Flags('aaaa')\n",
    "print(f.flags)"
   ]
  },
  {
   "cell_type": "code",
   "execution_count": 4,
   "id": "c8d410fd",
   "metadata": {},
   "outputs": [
    {
     "name": "stdout",
     "output_type": "stream",
     "text": [
      "-aaa\n",
      "-aa\n",
      "-aa\n"
     ]
    }
   ],
   "source": [
    "# NBVAL_CHECK_OUTPUT\n",
    "# check inplace subtraction\n",
    "f -= 'a'\n",
    "print(f.flags)\n",
    "# again\n",
    "f -= 'a'\n",
    "print(f.flags)\n",
    "# sub something that doesnt exist\n",
    "f -= 'b'\n",
    "print(f.flags)"
   ]
  },
  {
   "cell_type": "code",
   "execution_count": 5,
   "id": "12df34ee",
   "metadata": {},
   "outputs": [
    {
     "name": "stdout",
     "output_type": "stream",
     "text": [
      "-aauv\n"
     ]
    }
   ],
   "source": [
    "# NBVAL_CHECK_OUTPUT\n",
    "# test addition\n",
    "f += 'uv'\n",
    "print(f.flags)"
   ]
  },
  {
   "cell_type": "code",
   "execution_count": 6,
   "id": "79942cc3",
   "metadata": {},
   "outputs": [
    {
     "name": "stdout",
     "output_type": "stream",
     "text": [
      "--aauv\n"
     ]
    }
   ],
   "source": [
    "# NBVAL_CHECK_OUTPUT\n",
    "# test changing the prefix\n",
    "f.prefix = '--'\n",
    "print(f.flags)"
   ]
  }
 ],
 "metadata": {
  "kernelspec": {
   "display_name": "Python 3 (ipykernel)",
   "language": "python",
   "name": "python3"
  },
  "language_info": {
   "codemirror_mode": {
    "name": "ipython",
    "version": 3
   },
   "file_extension": ".py",
   "mimetype": "text/x-python",
   "name": "python",
   "nbconvert_exporter": "python",
   "pygments_lexer": "ipython3",
   "version": "3.8.10"
  }
 },
 "nbformat": 4,
 "nbformat_minor": 5
}
