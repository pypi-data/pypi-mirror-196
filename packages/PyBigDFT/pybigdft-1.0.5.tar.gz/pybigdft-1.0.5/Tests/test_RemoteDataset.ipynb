{
 "cells": [
  {
   "cell_type": "code",
   "execution_count": 1,
   "metadata": {},
   "outputs": [
    {
     "name": "stdout",
     "output_type": "stream",
     "text": [
      "running with:\n",
      "remote dir: /home/test/bigdft-suite/PyBigDFT/Tests/fake_remote_RemoteDataset\n",
      "local dir: /home/test/bigdft-suite/PyBigDFT/Tests/fake_local_RemoteDataset\n"
     ]
    }
   ],
   "source": [
    "import sys\n",
    "import os\n",
    "import time\n",
    "\n",
    "sys.path.insert(0, '..')\n",
    "sys.path.insert(0, '../../futile/python')\n",
    "\n",
    "package = 'RemoteDataset'\n",
    "\n",
    "import BigDFT\n",
    "BigDFT.Logger.path = os.path.join(os.getcwd(), f'BigDFT_test{package}.yaml')\n",
    "BigDFT.Logger.level = 'debug'\n",
    "BigDFT.Logger.overwrite = True\n",
    "BigDFT.Logger.info(f'{package} unit testing begins')\n",
    "\n",
    "import BigDFT.RemoteRunners as r\n",
    "\n",
    "from BigDFT.URL import URL\n",
    "\n",
    "remote_dir = os.path.join(os.getcwd(), f'fake_remote_{package}')\n",
    "local_dir = os.path.join(os.getcwd(), f'fake_local_{package}')\n",
    "\n",
    "print(f'running with:\\nremote dir: {remote_dir}\\nlocal dir: {local_dir}')"
   ]
  },
  {
   "cell_type": "code",
   "execution_count": 2,
   "metadata": {},
   "outputs": [],
   "source": [
    "def remote_func(arg):\n",
    "    \"\"\"this function should write the argument in the resultfile\"\"\"\n",
    "    return arg"
   ]
  },
  {
   "cell_type": "code",
   "execution_count": 3,
   "metadata": {},
   "outputs": [
    {
     "name": "stdout",
     "output_type": "stream",
     "text": [
      "\n",
      "######## local permissions ########\n",
      "creating test folder /URL_connection_test\n",
      "\tpermission denied, trying again in /home/test\n",
      "creating test folder /home/test/URL_connection_test\n",
      "\tsuccess, cleaning up\n",
      "\n",
      "######## local permissions ########\n",
      "creating test folder /URL_connection_test\n",
      "\tpermission denied, trying again in /home/test\n",
      "creating test folder /home/test/URL_connection_test\n",
      "\tsuccess, cleaning up\n",
      "\n",
      "######## file push test ########\n",
      "test push testfile_push from /home/test/rsync_test_local to /home/test/rsync_test_local\n",
      "\tsuccess, cleaning up\n",
      "\n",
      "######## file pull test ########\n",
      "test pull testfile_pull from /home/test/rsync_test_remote to /home/test/rsync_test_local\n",
      "\tsuccess, cleaning up\n",
      "used 26 cmd calls for this test, taking 0.10 seconds (averaging 0.00s per call)\n"
     ]
    }
   ],
   "source": [
    "BigDFT.Logger.info('setting up database for checks')\n",
    "url = URL()\n",
    "url.test_connection()\n",
    "url.cmd('rm database.yaml')\n",
    "remote_data = r.RemoteDataset(function=remote_func,\n",
    "                              url=url,\n",
    "                              script='#!/bin/bash',                              \n",
    "                              remote_dir=remote_dir,\n",
    "                              run_dir=local_dir,\n",
    "                              verbose=False,\n",
    "                              skip=False)"
   ]
  },
  {
   "cell_type": "code",
   "execution_count": 4,
   "metadata": {},
   "outputs": [],
   "source": [
    "BigDFT.Logger.info('appending runs')\n",
    "arguments = ['Hello World',\n",
    "             'This is test']\n",
    "idx=0\n",
    "for arg in arguments:\n",
    "    remote_data.append_run(id={'r':idx}, arguments=dict(arg=arg))\n",
    "    idx+=1"
   ]
  },
  {
   "cell_type": "code",
   "execution_count": 5,
   "metadata": {},
   "outputs": [
    {
     "data": {
      "text/plain": [
       "{0: None, 1: None}"
      ]
     },
     "execution_count": 5,
     "metadata": {},
     "output_type": "execute_result"
    }
   ],
   "source": [
    "remote_data.run()"
   ]
  },
  {
   "cell_type": "code",
   "execution_count": 6,
   "metadata": {},
   "outputs": [
    {
     "name": "stdout",
     "output_type": "stream",
     "text": [
      "['Hello World', 'This is test']\n"
     ]
    }
   ],
   "source": [
    "# NBVAL_CHECK_OUTPUT\n",
    "idx = 0\n",
    "maxtime = 20\n",
    "while not remote_data.all_finished(anyfile=False, timeout=maxtime):\n",
    "    time.sleep(1)\n",
    "results = remote_data.fetch_results()\n",
    "\n",
    "print(results)"
   ]
  },
  {
   "cell_type": "code",
   "execution_count": 7,
   "metadata": {},
   "outputs": [],
   "source": [
    "BigDFT.Logger.info('testing run append with identical arguments')\n",
    "\n",
    "def simple_func(r):\n",
    "    return r\n",
    "remote_data = r.RemoteDataset(function = simple_func)\n",
    "\n",
    "for i in range(3):\n",
    "    remote_data.append_run(id = {'same': i}, arguments = {'r': 1})\n",
    "\n",
    "for i in range(2):\n",
    "    remote_data.append_run(id = {'new': i}, arguments = {'r': i + 5})"
   ]
  },
  {
   "cell_type": "code",
   "execution_count": 8,
   "metadata": {},
   "outputs": [
    {
     "name": "stdout",
     "output_type": "stream",
     "text": [
      "[0, 1, 2]\n",
      "[3]\n",
      "[4]\n"
     ]
    }
   ],
   "source": [
    "# NBVAL_CHECK_OUTPUT\n",
    "for calc in remote_data.calculators:\n",
    "    print(calc[\"runs\"])"
   ]
  }
 ],
 "metadata": {
  "kernelspec": {
   "display_name": "Python 3",
   "language": "python",
   "name": "python3"
  },
  "language_info": {
   "codemirror_mode": {
    "name": "ipython",
    "version": 3
   },
   "file_extension": ".py",
   "mimetype": "text/x-python",
   "name": "python",
   "nbconvert_exporter": "python",
   "pygments_lexer": "ipython3",
   "version": "3.8.10"
  }
 },
 "nbformat": 4,
 "nbformat_minor": 5
}
