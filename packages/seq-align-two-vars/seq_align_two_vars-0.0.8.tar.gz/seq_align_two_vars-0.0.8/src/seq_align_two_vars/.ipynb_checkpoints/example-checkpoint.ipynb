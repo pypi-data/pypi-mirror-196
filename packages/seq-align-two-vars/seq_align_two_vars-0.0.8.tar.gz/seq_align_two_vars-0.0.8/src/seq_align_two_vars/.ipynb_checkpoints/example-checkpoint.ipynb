{
 "cells": [
  {
   "cell_type": "code",
   "execution_count": 1,
   "id": "c6f03f34-56a9-4dbe-8a56-5b7a1adcaa8a",
   "metadata": {},
   "outputs": [],
   "source": [
    "import numpy as np\n",
    "import pandas as pd\n",
    "import networkx as nx\n",
    "from matplotlib import pyplot as plt\n",
    "import random\n",
    "import seq_align_two_vars as seq"
   ]
  },
  {
   "cell_type": "code",
   "execution_count": 39,
   "id": "e6387daf-8103-4cb7-966a-078384c3cad7",
   "metadata": {},
   "outputs": [],
   "source": [
    "df = seq.make_sample(10, [\"A\",\"B\",\"C\",\"D\",\"E\"], 50, distribution = np.random.normal, var_len=True)"
   ]
  },
  {
   "cell_type": "code",
   "execution_count": 3,
   "id": "1e4e07da-5643-425a-aa59-1ac25f7d3ad9",
   "metadata": {},
   "outputs": [],
   "source": [
    "dis = seq.distance_metric(df)"
   ]
  },
  {
   "cell_type": "code",
   "execution_count": 4,
   "id": "4a2cc4b5-55a4-40f8-af66-e7823b3afb0b",
   "metadata": {},
   "outputs": [],
   "source": [
    "lst = seq.neighbours(dis, 0, 3)"
   ]
  },
  {
   "cell_type": "code",
   "execution_count": 5,
   "id": "2b0f3329-ee90-4aa6-bce6-1c3c935b8289",
   "metadata": {},
   "outputs": [
    {
     "data": {
      "text/plain": [
       "[3, 11, 15, 26, 35, 37]"
      ]
     },
     "execution_count": 5,
     "metadata": {},
     "output_type": "execute_result"
    }
   ],
   "source": [
    "lst"
   ]
  },
  {
   "cell_type": "code",
   "execution_count": null,
   "id": "8a884a24-dbd0-4d49-9c58-2b031652db3a",
   "metadata": {},
   "outputs": [],
   "source": [
    "seq.com_draw(df, lst, {\"A\": \"r\", \"B\": \"y\", \"C\": \"g\", \"D\":\"b\"})"
   ]
  },
  {
   "cell_type": "code",
   "execution_count": 7,
   "id": "95f3fea7-9f1a-44da-be0c-65fcd3d5946c",
   "metadata": {},
   "outputs": [],
   "source": [
    "model = seq.cluster(dis, n_clusters=10)"
   ]
  },
  {
   "cell_type": "code",
   "execution_count": 8,
   "id": "0f129495-2ae7-4b40-a321-4f136989c7d6",
   "metadata": {},
   "outputs": [
    {
     "data": {
      "text/plain": [
       "(array([0, 1, 2, 3, 4, 5, 6, 7, 8, 9]),\n",
       " array([11,  3,  3,  4,  2, 20,  3,  2,  1,  1]))"
      ]
     },
     "execution_count": 8,
     "metadata": {},
     "output_type": "execute_result"
    }
   ],
   "source": [
    "seq.count(model)"
   ]
  },
  {
   "cell_type": "code",
   "execution_count": 13,
   "id": "bf50606e-42fb-471c-9eec-998bd17a1b62",
   "metadata": {},
   "outputs": [
    {
     "data": {
      "image/png": "[encoded data removed]",
      "text/plain": [
       "<Figure size 640x480 with 1 Axes>"
      ]
     },
     "metadata": {},
     "output_type": "display_data"
    }
   ],
   "source": [
    "seq.plot_dendrogram(model, truncate_mode= \"level\", p = 4)"
   ]
  },
  {
   "cell_type": "code",
   "execution_count": null,
   "id": "5d288d92-b4f5-4f47-ad76-4421a87a528f",
   "metadata": {},
   "outputs": [],
   "source": []
  }
 ],
 "metadata": {
  "kernelspec": {
   "display_name": "Python 3 (ipykernel)",
   "language": "python",
   "name": "python3"
  },
  "language_info": {
   "codemirror_mode": {
    "name": "ipython",
    "version": 3
   },
   "file_extension": ".py",
   "mimetype": "text/x-python",
   "name": "python",
   "nbconvert_exporter": "python",
   "pygments_lexer": "ipython3",
   "version": "3.9.13"
  }
 },
 "nbformat": 4,
 "nbformat_minor": 5
}
