{
 "cells": [
  {
   "cell_type": "markdown",
   "id": "39256593-9a50-4e62-8305-34c2d76178c0",
   "metadata": {},
   "source": [
    "## diff_grammatik\n",
    "* liefert basis, endung\n",
    "* case-sensitiv!\n",
    "* Umlaute werden dagegen ignoriert"
   ]
  },
  {
   "cell_type": "code",
   "execution_count": 14,
   "id": "404618b9-b770-4247-a47b-de7bbcd2c448",
   "metadata": {},
   "outputs": [
    {
     "name": "stdout",
     "output_type": "stream",
     "text": [
      "('klar', 'ere')\n",
      "('anfäll', 'e')\n",
      "time: 10.4 ms (started: 2022-09-09 18:18:56 +00:00)\n"
     ]
    }
   ],
   "source": [
    "# Normalfall: lemma und lexem\n",
    "# Das Lexem ergibt sich dann aus basis + endung\n",
    "# auch wenn ein Umlaut stört\n",
    "print( bpy.diff_grammatik('klar', 'klarere')  )\n",
    "print( bpy.diff_grammatik('anfall','anfälle') )"
   ]
  },
  {
   "cell_type": "code",
   "execution_count": 15,
   "id": "ab176603-0b65-472a-abb2-92a74f16b1fb",
   "metadata": {},
   "outputs": [
    {
     "name": "stdout",
     "output_type": "stream",
     "text": [
      "('klar', '')\n",
      "('klär', '')\n",
      "('klar', '')\n",
      "time: 10.5 ms (started: 2022-09-09 18:18:56 +00:00)\n"
     ]
    }
   ],
   "source": [
    "# identisch:\n",
    "# Das Lexem ergibt sich auch hier aus basis + endung\n",
    "print( bpy.diff_grammatik('klar', 'klar') )\n",
    "print( bpy.diff_grammatik('klar', 'klär') )\n",
    "print( bpy.diff_grammatik('klär', 'klar') )"
   ]
  },
  {
   "cell_type": "code",
   "execution_count": 16,
   "id": "2b09737e-e885-40ad-92f6-ec5713cfea9c",
   "metadata": {},
   "outputs": [
    {
     "name": "stdout",
     "output_type": "stream",
     "text": [
      "('kla', '')\n",
      "('klä', '')\n",
      "('kla', '')\n",
      "time: 10.7 ms (started: 2022-09-09 18:18:56 +00:00)\n"
     ]
    }
   ],
   "source": [
    "# Lemma ist länger als das Lexem:\n",
    "# >> basis ist der längste übereinstimmende Teil,\n",
    "#    zusatz ist leer\n",
    "print(  bpy.diff_grammatik('klar', 'kla') )\n",
    "print(  bpy.diff_grammatik('klar', 'klä') )\n",
    "print(  bpy.diff_grammatik('klär', 'kla') )"
   ]
  },
  {
   "cell_type": "code",
   "execution_count": 17,
   "id": "dca0f58b-0f2d-48ba-897a-f2a4378d5c45",
   "metadata": {},
   "outputs": [
    {
     "name": "stdout",
     "output_type": "stream",
     "text": [
      "('klar', '')\n",
      "('klär', '')\n",
      "('klar', '')\n",
      "time: 10.9 ms (started: 2022-09-09 18:18:56 +00:00)\n"
     ]
    }
   ],
   "source": [
    "# es gibt keine Übereinstimmung am Anfang\n",
    "print( bpy.diff_grammatik('iklar', 'klar') )\n",
    "print( bpy.diff_grammatik('iklar', 'klär') )\n",
    "print( bpy.diff_grammatik('iklär', 'klar') )"
   ]
  },
  {
   "cell_type": "code",
   "execution_count": 18,
   "id": "fdc19f2e-cb66-4641-bbf9-f6a98214ca3a",
   "metadata": {
    "jupyter": {
     "source_hidden": true
    },
    "tags": []
   },
   "outputs": [
    {
     "name": "stdout",
     "output_type": "stream",
     "text": [
      "('klar', '')\n",
      "('klär', '')\n",
      "('klar', '')\n",
      "time: 10.5 ms (started: 2022-09-09 18:18:56 +00:00)\n"
     ]
    }
   ],
   "source": [
    "# dito\n",
    "print( bpy.diff_grammatik('Klar', 'klar') )\n",
    "print( bpy.diff_grammatik('Klar', 'klär') )\n",
    "print( bpy.diff_grammatik('Klär', 'klar') )"
   ]
  }
 ],
 "metadata": {
  "kernelspec": {
   "display_name": "Python 3 (ipykernel)",
   "language": "python",
   "name": "python3"
  },
  "language_info": {
   "codemirror_mode": {
    "name": "ipython",
    "version": 3
   },
   "file_extension": ".py",
   "mimetype": "text/x-python",
   "name": "python",
   "nbconvert_exporter": "python",
   "pygments_lexer": "ipython3",
   "version": "3.8.8"
  }
 },
 "nbformat": 4,
 "nbformat_minor": 5
}
