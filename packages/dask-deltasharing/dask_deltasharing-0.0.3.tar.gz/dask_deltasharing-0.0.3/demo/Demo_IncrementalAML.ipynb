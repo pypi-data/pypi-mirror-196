{
 "cells": [
  {
   "cell_type": "code",
   "execution_count": 6,
   "id": "a16df2ba-aed9-4f5c-8709-bb12558f8597",
   "metadata": {
    "collapsed": true,
    "jupyter": {
     "outputs_hidden": true,
     "source_hidden": true
    },
    "tags": []
   },
   "outputs": [
    {
     "name": "stdout",
     "output_type": "stream",
     "text": [
      "                                             address  \\\n",
      "0           28668 Ashley Ferry, Brownburgh, WA 30791   \n",
      "1  07699 Shannon Islands Suite 956, New Sharonfor...   \n",
      "2         22498 Sara Course, Alyssaborough, FM 66170   \n",
      "3    22674 Smith Hill Suite 232, Ericaland, TX 87967   \n",
      "4           197 Olson Views, North Heather, SD 23879   \n",
      "\n",
      "                         email_addr  entity_id entity_type  \\\n",
      "0  christopher.schwartz@hotmail.com     100000      Person   \n",
      "1           john.miller@hotmail.com     100001      Person   \n",
      "2          lisa.johnson@hotmail.com     100002      Person   \n",
      "3           kara.anderson@yahoo.com     100003      Person   \n",
      "4         michael.serrano@gmail.com     100004      Person   \n",
      "\n",
      "                   name          phone_number  risk_score  \n",
      "0  Christopher Schwartz      001-557-314-4196           4  \n",
      "1           John Miller   +1-634-083-6275x321           0  \n",
      "2          Lisa Johnson  +1-277-378-7466x3414           1  \n",
      "3         Kara Anderson     775-490-7777x1957           0  \n",
      "4       Michael Serrano          077.930.9293           3  \n",
      "   beneficiary_id  originator_id  txn_amount             txn_date\n",
      "0          109057         105427        1205  2023-01-13 16:46:42\n",
      "1          101383         106184       11833  2023-01-13 16:46:42\n",
      "2          100841         109337        4216  2023-01-13 16:46:42\n",
      "3          200815         103019       17000  2023-01-13 16:46:42\n",
      "4          104574         100709        4283  2023-01-13 16:46:42\n",
      "add 32    beneficiary_id  originator_id  txn_amount             txn_date\n",
      "0          108155         100510        1038  2023-01-13 16:46:35\n",
      "add 3326    beneficiary_id  originator_id  txn_amount             txn_date\n",
      "0          109057         105427        1205  2023-01-13 16:46:42\n"
     ]
    }
   ],
   "source": [
    "# A quick look at the source data.\n",
    "import dask_deltasharing as dds\n",
    "print(dds.load_as_dask(\"test-profile.json#lynxkite-dev.default.aml_entities_live\").head())\n",
    "print(dds.load_as_dask(\"test-profile.json#lynxkite-dev.default.aml_transactions_live\").head())\n",
    "v = dds.get_latest_table_version(\"test-profile.json#lynxkite-dev.default.aml_transactions_live\")\n",
    "for v, c, df in dds.load_as_dask_changes(\"test-profile.json#lynxkite-dev.default.aml_transactions_live\", starting_version=1, ending_version=v):\n",
    "    print(c, len(df), df.head(1))"
   ]
  },
  {
   "cell_type": "code",
   "execution_count": 2,
   "id": "1c5cf856-b899-4ea8-92cb-7260fc36c6cd",
   "metadata": {},
   "outputs": [
    {
     "name": "stdout",
     "output_type": "stream",
     "text": [
      "                                             address  \\\n",
      "0      1238 Justin Unions, Lake Stevemouth, VI 91105   \n",
      "1             6425 Carey Courts, Brettfort, IA 31029   \n",
      "2     5818 Armstrong Center, North Patrick, NJ 99779   \n",
      "3            2796 Dawn Courts, Rebeccabury, SD 96536   \n",
      "4  0342 Fletcher Drives, North Carrieburgh, GA 97838   \n",
      "\n",
      "                  email_addr  entity_id entity_type             name  \\\n",
      "0    diane.leonard@yahoo.com     100000      Person    Diane Leonard   \n",
      "1  veronica.burton@yahoo.com     100001      Person  Veronica Burton   \n",
      "2    william.walls@gmail.com     100002      Person    William Walls   \n",
      "3   joanna.clark@hotmail.com     100003      Person     Joanna Clark   \n",
      "4       kyle.jones@gmail.com     100004      Person       Kyle Jones   \n",
      "\n",
      "            phone_number  risk_score  \n",
      "0   001-382-978-8791x172           1  \n",
      "1      334-098-2811x9531           2  \n",
      "2  001-914-284-9870x6662           3  \n",
      "3             1748402737           1  \n",
      "4     (104)178-6252x6992           0  \n",
      "   beneficiary_id  originator_id  txn_amount             txn_date\n",
      "0          100788         100293       10892  2023-01-16 19:18:08\n",
      "1          100960         200024        2837  2023-01-16 19:18:08\n",
      "2          100249         100226        6264  2023-01-16 19:18:08\n",
      "3          100064         100761        2846  2023-01-16 19:18:08\n",
      "4          100378         100283        3614  2023-01-16 19:18:08\n",
      "add 156    beneficiary_id  originator_id  txn_amount             txn_date\n",
      "0          100788         100293       10892  2023-01-16 19:18:08\n",
      "add 372    beneficiary_id  originator_id  txn_amount             txn_date\n",
      "0          100023         100824        5145  2023-01-16 19:21:46\n",
      "add 27    beneficiary_id  originator_id  txn_amount             txn_date\n",
      "0          100196         100858        2910  2023-01-16 20:51:15\n",
      "add 32    beneficiary_id  originator_id  txn_amount             txn_date\n",
      "0          100844         100269        2843  2023-01-16 21:16:50\n"
     ]
    }
   ],
   "source": [
    "import dask_deltasharing as dds\n",
    "print(dds.load_as_dask(\"umls.json#aml.default.aml_entities_live\").head())\n",
    "print(dds.load_as_dask(\"umls.json#aml.default.aml_transactions_live\").head())\n",
    "v = dds.get_latest_table_version(\"umls.json#aml.default.aml_transactions_live\")\n",
    "for v, c, df in dds.load_as_dask_changes(\"umls.json#aml.default.aml_transactions_live\", starting_version=1, ending_version=v):\n",
    "    print(c, len(df), df.head(1))"
   ]
  },
  {
   "cell_type": "code",
   "execution_count": 3,
   "id": "0443c895-e5be-43fd-b2ab-cbd9a2d55fa9",
   "metadata": {},
   "outputs": [],
   "source": [
    "# Run this to reset the state.\n",
    "from katana import remote\n",
    "client = remote.Client()\n",
    "for g in client.find_graphs_by_name(\"aml demo graph\"):\n",
    "    g.delete()"
   ]
  },
  {
   "cell_type": "code",
   "execution_count": 35,
   "id": "7891714b-3f21-494f-b795-43657406fced",
   "metadata": {
    "collapsed": true,
    "jupyter": {
     "outputs_hidden": true,
     "source_hidden": true
    },
    "tags": []
   },
   "outputs": [
    {
     "name": "stderr",
     "output_type": "stream",
     "text": [
      "UserWarning: dtype for DataFrame column 'address' is 'object'. Will be inferred as string.\n",
      "UserWarning: dtype for DataFrame column 'email_addr' is 'object'. Will be inferred as string.\n",
      "UserWarning: dtype for DataFrame column 'entity_type' is 'object'. Will be inferred as string.\n",
      "UserWarning: dtype for DataFrame column 'name' is 'object'. Will be inferred as string.\n",
      "UserWarning: dtype for DataFrame column 'phone_number' is 'object'. Will be inferred as string.\n",
      "UserWarning: dtype for DataFrame column 'txn_date' is 'object'. Will be inferred as string.\n"
     ]
    },
    {
     "data": {
      "application/vnd.jupyter.widget-view+json": {
       "model_id": "35c7d24a895846699ab5618ab4b6c2e2",
       "version_major": 2,
       "version_minor": 0
      },
      "text/plain": [
       "          0/? [?op/s]"
      ]
     },
     "metadata": {},
     "output_type": "display_data"
    },
    {
     "data": {
      "application/vnd.jupyter.widget-view+json": {
       "model_id": "323a76626b6544a9b6bcbf1cf1f9ef2f",
       "version_major": 2,
       "version_minor": 0
      },
      "text/plain": [
       "          0/? [?op/s]"
      ]
     },
     "metadata": {},
     "output_type": "display_data"
    }
   ],
   "source": [
    "from katana import remote\n",
    "from katana.remote import import_data\n",
    "import dask_deltasharing\n",
    "nodes = dask_deltasharing.load_as_dask(\"umls.json#aml.default.aml_entities_live\")\n",
    "edges = dask_deltasharing.load_as_dask(\"umls.json#aml.default.aml_transactions_live\")\n",
    "\n",
    "#nodes=dask_deltasharing.load_as_dask(\"test-profile.json#lynxkite-dev.default.aml_entities_live\")\n",
    "#edges = dask_deltasharing.load_as_dask(\"test-profile.json#lynxkite-dev.default.aml_transactions_live\")\n",
    "client = remote.Client()\n",
    "graph = client.create_graph(num_partitions=4)\n",
    "with import_data.DataFrameImporter(graph) as df_importer:\n",
    "    df_importer.nodes_dataframe(nodes, id_column=\"entity_id\", id_space=\"all\")\n",
    "    df_importer.edges_dataframe(\n",
    "        edges,\n",
    "        source_id_space=\"all\",\n",
    "        source_column=\"originator_id\",\n",
    "        destination_id_space=\"all\",\n",
    "        destination_column=\"beneficiary_id\")\n",
    "    df_importer.insert()"
   ]
  },
  {
   "cell_type": "code",
   "execution_count": 4,
   "id": "57ffc7f9-bfb5-47d3-b1f9-910c5821d0ef",
   "metadata": {
    "tags": []
   },
   "outputs": [
    {
     "data": {
      "application/vnd.jupyter.widget-view+json": {
       "model_id": "7ad2e7a06efc4307b172328a51fa78d9",
       "version_major": 2,
       "version_minor": 0
      },
      "text/plain": [
       "          0/? [?op/s]"
      ]
     },
     "metadata": {},
     "output_type": "display_data"
    },
    {
     "data": {
      "application/vnd.jupyter.widget-view+json": {
       "model_id": "03a2c85624bc406d806f2b9cb09cade0",
       "version_major": 2,
       "version_minor": 0
      },
      "text/plain": [
       "          0/? [?op/s]"
      ]
     },
     "metadata": {},
     "output_type": "display_data"
    },
    {
     "data": {
      "application/vnd.jupyter.widget-view+json": {
       "model_id": "fb691a31e41f4b429a13d2b6e7f34df6",
       "version_major": 2,
       "version_minor": 0
      },
      "text/plain": [
       "          0/? [?op/s]"
      ]
     },
     "metadata": {},
     "output_type": "display_data"
    },
    {
     "data": {
      "application/vnd.jupyter.widget-view+json": {
       "model_id": "37ed36ea4f4e45918e3b4e35b35d59b0",
       "version_major": 2,
       "version_minor": 0
      },
      "text/plain": [
       "          0/? [?op/s]"
      ]
     },
     "metadata": {},
     "output_type": "display_data"
    },
    {
     "data": {
      "application/vnd.jupyter.widget-view+json": {
       "model_id": "5ea6b2c0475947beb1bc92bd72e49339",
       "version_major": 2,
       "version_minor": 0
      },
      "text/plain": [
       "          0/? [?op/s]"
      ]
     },
     "metadata": {},
     "output_type": "display_data"
    },
    {
     "name": "stderr",
     "output_type": "stream",
     "text": [
      "UserWarning: dtype for DataFrame column 'address' is 'object'. Will be inferred as string.\n",
      "UserWarning: dtype for DataFrame column 'email_addr' is 'object'. Will be inferred as string.\n",
      "UserWarning: dtype for DataFrame column 'name' is 'object'. Will be inferred as string.\n",
      "UserWarning: dtype for DataFrame column 'phone_number' is 'object'. Will be inferred as string.\n"
     ]
    },
    {
     "data": {
      "application/vnd.jupyter.widget-view+json": {
       "model_id": "5822a7e28d03442f8ea3c75b2f9bc040",
       "version_major": 2,
       "version_minor": 0
      },
      "text/plain": [
       "          0/? [?op/s]"
      ]
     },
     "metadata": {},
     "output_type": "display_data"
    },
    {
     "data": {
      "application/vnd.jupyter.widget-view+json": {
       "model_id": "2b99f35a99e64d7bbab8acceaef7698c",
       "version_major": 2,
       "version_minor": 0
      },
      "text/plain": [
       "          0/? [?op/s]"
      ]
     },
     "metadata": {},
     "output_type": "display_data"
    },
    {
     "data": {
      "application/vnd.jupyter.widget-view+json": {
       "model_id": "e937930e355e409eb1bb67d1b2705ae1",
       "version_major": 2,
       "version_minor": 0
      },
      "text/plain": [
       "          0/? [?op/s]"
      ]
     },
     "metadata": {},
     "output_type": "display_data"
    },
    {
     "name": "stderr",
     "output_type": "stream",
     "text": [
      "UserWarning: dtype for DataFrame column 'txn_date' is 'object'. Will be inferred as string.\n"
     ]
    },
    {
     "data": {
      "application/vnd.jupyter.widget-view+json": {
       "model_id": "67ba0dbe086849e194ee167ccd6e73f7",
       "version_major": 2,
       "version_minor": 0
      },
      "text/plain": [
       "          0/? [?op/s]"
      ]
     },
     "metadata": {},
     "output_type": "display_data"
    },
    {
     "data": {
      "application/vnd.jupyter.widget-view+json": {
       "model_id": "0d47ef92694549eca650451f7e83570e",
       "version_major": 2,
       "version_minor": 0
      },
      "text/plain": [
       "          0/? [?op/s]"
      ]
     },
     "metadata": {},
     "output_type": "display_data"
    },
    {
     "data": {
      "application/vnd.jupyter.widget-view+json": {
       "model_id": "48ea5b4e8d5b421ab763117dc690a33d",
       "version_major": 2,
       "version_minor": 0
      },
      "text/plain": [
       "          0/? [?op/s]"
      ]
     },
     "metadata": {},
     "output_type": "display_data"
    },
    {
     "data": {
      "application/vnd.jupyter.widget-view+json": {
       "model_id": "8df314ac7a884187b4ef3433a22c4871",
       "version_major": 2,
       "version_minor": 0
      },
      "text/plain": [
       "          0/? [?op/s]"
      ]
     },
     "metadata": {},
     "output_type": "display_data"
    },
    {
     "data": {
      "application/vnd.jupyter.widget-view+json": {
       "model_id": "fa8bb36f88a94a9bb723f9d44cd5f56a",
       "version_major": 2,
       "version_minor": 0
      },
      "text/plain": [
       "          0/? [?op/s]"
      ]
     },
     "metadata": {},
     "output_type": "display_data"
    },
    {
     "data": {
      "application/vnd.jupyter.widget-view+json": {
       "model_id": "3c31ec385ef844f7ae31f877943dd7b9",
       "version_major": 2,
       "version_minor": 0
      },
      "text/plain": [
       "          0/? [?op/s]"
      ]
     },
     "metadata": {},
     "output_type": "display_data"
    },
    {
     "data": {
      "application/vnd.jupyter.widget-view+json": {
       "model_id": "ebe29c03690b48809621e00c464a453e",
       "version_major": 2,
       "version_minor": 0
      },
      "text/plain": [
       "          0/? [?op/s]"
      ]
     },
     "metadata": {},
     "output_type": "display_data"
    },
    {
     "data": {
      "application/vnd.jupyter.widget-view+json": {
       "model_id": "bbc76155e35a46e0b590d9ab87305e81",
       "version_major": 2,
       "version_minor": 0
      },
      "text/plain": [
       "          0/? [?op/s]"
      ]
     },
     "metadata": {},
     "output_type": "display_data"
    },
    {
     "data": {
      "application/vnd.jupyter.widget-view+json": {
       "model_id": "23ca1927b13c460b86694064256f14a0",
       "version_major": 2,
       "version_minor": 0
      },
      "text/plain": [
       "          0/? [?op/s]"
      ]
     },
     "metadata": {},
     "output_type": "display_data"
    },
    {
     "data": {
      "application/vnd.jupyter.widget-view+json": {
       "model_id": "553956463cd349dc9c0cb567db072ade",
       "version_major": 2,
       "version_minor": 0
      },
      "text/plain": [
       "          0/? [?op/s]"
      ]
     },
     "metadata": {},
     "output_type": "display_data"
    },
    {
     "data": {
      "application/vnd.jupyter.widget-view+json": {
       "model_id": "2ca909dd3db542d7898e4db2e89048dc",
       "version_major": 2,
       "version_minor": 0
      },
      "text/plain": [
       "          0/? [?op/s]"
      ]
     },
     "metadata": {},
     "output_type": "display_data"
    },
    {
     "data": {
      "application/vnd.jupyter.widget-view+json": {
       "model_id": "6e4450c6934b4437bc86a0ec84984036",
       "version_major": 2,
       "version_minor": 0
      },
      "text/plain": [
       "          0/? [?op/s]"
      ]
     },
     "metadata": {},
     "output_type": "display_data"
    },
    {
     "data": {
      "application/vnd.jupyter.widget-view+json": {
       "model_id": "8130358db7884deeaddf62d4d147c239",
       "version_major": 2,
       "version_minor": 0
      },
      "text/plain": [
       "          0/? [?op/s]"
      ]
     },
     "metadata": {},
     "output_type": "display_data"
    },
    {
     "data": {
      "application/vnd.jupyter.widget-view+json": {
       "model_id": "1139186a413c4b61a8db51aa1c255a36",
       "version_major": 2,
       "version_minor": 0
      },
      "text/plain": [
       "          0/? [?op/s]"
      ]
     },
     "metadata": {},
     "output_type": "display_data"
    },
    {
     "name": "stdout",
     "output_type": "stream",
     "text": [
      "1100 587\n"
     ]
    }
   ],
   "source": [
    "# The following is what goes into the periodically executed script.\n",
    "# This \"cronjob\" is executed by a scheduling system and updates the RDG\n",
    "# to keep it up to date with the source tables.\n",
    "\n",
    "#from katana import remote\n",
    "import incremental\n",
    "\n",
    "client = remote.Client()\n",
    "graph = incremental.get_or_create_graph(client, \"aml demo graph\", num_partitions=4)\n",
    "\n",
    "def fullname(table):\n",
    "    return \"umls.json#aml.default.\" + table\n",
    "\n",
    "# This is an idempotent one-time setup.\n",
    "# It doesn't _need_ to be part of the cronjob, but I think putting it here is a great idea.\n",
    "# This way you can add a new table anytime and it will be pulled in on the next execution.\n",
    "\n",
    "incremental.upsert_incremental_node_source(\n",
    "    graph,\n",
    "    \"entities\",\n",
    "    incremental.SourceSystem.Delta,\n",
    "    fullname(\"aml_entities_live\"),\n",
    "    id_column=\"entity_id\",\n",
    "    label_column=\"entity_type\",\n",
    "    id_space=\"Entity\")\n",
    "incremental.upsert_incremental_edge_source(\n",
    "    graph,\n",
    "    \"transactions\",\n",
    "    incremental.SourceSystem.Delta,\n",
    "    fullname(\"aml_transactions_live\"),\n",
    "    type=\"TRANSFER\",\n",
    "    id_column=\"entity_id\",\n",
    "    source_id_space=\"Entity\",\n",
    "    source_column=\"originator_id\",\n",
    "    destination_id_space=\"Entity\",\n",
    "    destination_column=\"beneficiary_id\")\n",
    "\n",
    "# Here we go with the actual work!\n",
    "\n",
    "incremental.incremental_refresh(graph)\n",
    "print(graph.num_nodes(), graph.num_edges())"
   ]
  },
  {
   "cell_type": "markdown",
   "id": "d3885e55-ab4b-4686-b0a0-415b8d5cc02a",
   "metadata": {},
   "source": [
    "The graph is loaded! If the source data is updated, just re-run the cell above.\n",
    "It will update the graph in Katana with the new commits from the CDF.\n",
    "\n",
    "Some debug queries below:"
   ]
  },
  {
   "cell_type": "code",
   "execution_count": 45,
   "id": "feb699c8-23ee-411b-b116-c0569f8063db",
   "metadata": {
    "collapsed": true,
    "jupyter": {
     "outputs_hidden": true,
     "source_hidden": true
    },
    "tags": []
   },
   "outputs": [
    {
     "data": {
      "application/vnd.jupyter.widget-view+json": {
       "model_id": "c3d3b20b2eb24f63a2ed68afb6055c9f",
       "version_major": 2,
       "version_minor": 0
      },
      "text/plain": [
       "          0/? [?op/s]"
      ]
     },
     "metadata": {},
     "output_type": "display_data"
    },
    {
     "data": {
      "text/html": [
       "<div>\n",
       "<style scoped>\n",
       "    .dataframe tbody tr th:only-of-type {\n",
       "        vertical-align: middle;\n",
       "    }\n",
       "\n",
       "    .dataframe tbody tr th {\n",
       "        vertical-align: top;\n",
       "    }\n",
       "\n",
       "    .dataframe thead th {\n",
       "        text-align: right;\n",
       "    }\n",
       "</style>\n",
       "<table border=\"1\" class=\"dataframe\">\n",
       "  <thead>\n",
       "    <tr style=\"text-align: right;\">\n",
       "      <th></th>\n",
       "      <th>v.internal_id</th>\n",
       "      <th>v.labels</th>\n",
       "      <th>v.address</th>\n",
       "      <th>v.email_addr</th>\n",
       "      <th>v.entity_id</th>\n",
       "      <th>v.name</th>\n",
       "      <th>v.phone_number</th>\n",
       "      <th>v.risk_score</th>\n",
       "      <th>v.type</th>\n",
       "    </tr>\n",
       "  </thead>\n",
       "  <tbody>\n",
       "    <tr>\n",
       "      <th>0</th>\n",
       "      <td>240</td>\n",
       "      <td>[Company, Entity]</td>\n",
       "      <td>24524 Peterson Forge Suite 370, New Ryan, CA 8...</td>\n",
       "      <td>info@jensen-plc.com</td>\n",
       "      <td>200013</td>\n",
       "      <td>Jensen PLC</td>\n",
       "      <td>(847)914-0048x129</td>\n",
       "      <td>3</td>\n",
       "      <td>node</td>\n",
       "    </tr>\n",
       "    <tr>\n",
       "      <th>1</th>\n",
       "      <td>241</td>\n",
       "      <td>[Company, Entity]</td>\n",
       "      <td>Unit 3637 Box 9875, DPO AA 45687</td>\n",
       "      <td>info@garcia-sullivan-and-merritt.com</td>\n",
       "      <td>200014</td>\n",
       "      <td>Garcia, Sullivan and Merritt</td>\n",
       "      <td>3284179392</td>\n",
       "      <td>1</td>\n",
       "      <td>node</td>\n",
       "    </tr>\n",
       "    <tr>\n",
       "      <th>2</th>\n",
       "      <td>242</td>\n",
       "      <td>[Company, Entity]</td>\n",
       "      <td>6636 Thomas Glen Suite 304, Christopherfort, P...</td>\n",
       "      <td>kimberly.edwards@yahoo.com</td>\n",
       "      <td>200019</td>\n",
       "      <td>Thompson and Sons</td>\n",
       "      <td>+1-252-433-8553x534</td>\n",
       "      <td>0</td>\n",
       "      <td>node</td>\n",
       "    </tr>\n",
       "    <tr>\n",
       "      <th>3</th>\n",
       "      <td>243</td>\n",
       "      <td>[Company, Entity]</td>\n",
       "      <td>75570 Danielle Harbors Apt. 938, West Maryburg...</td>\n",
       "      <td>james.green@hotmail.com</td>\n",
       "      <td>200020</td>\n",
       "      <td>Thompson-Fritz</td>\n",
       "      <td>001-138-182-1805x0277</td>\n",
       "      <td>0</td>\n",
       "      <td>node</td>\n",
       "    </tr>\n",
       "    <tr>\n",
       "      <th>4</th>\n",
       "      <td>244</td>\n",
       "      <td>[Company, Entity]</td>\n",
       "      <td>956 Burns Rest, Lake Anthony, CA 11768</td>\n",
       "      <td>info@smith-and-sons.com</td>\n",
       "      <td>200022</td>\n",
       "      <td>Smith and Sons</td>\n",
       "      <td>2754758785</td>\n",
       "      <td>4</td>\n",
       "      <td>node</td>\n",
       "    </tr>\n",
       "    <tr>\n",
       "      <th>5</th>\n",
       "      <td>245</td>\n",
       "      <td>[Company, Entity]</td>\n",
       "      <td>34943 Smith Cliffs, Millerbury, NY 26434</td>\n",
       "      <td>info@hinton-matthews-and-anderson.com</td>\n",
       "      <td>200026</td>\n",
       "      <td>Hinton, Matthews and Anderson</td>\n",
       "      <td>001-028-223-8820x612</td>\n",
       "      <td>1</td>\n",
       "      <td>node</td>\n",
       "    </tr>\n",
       "    <tr>\n",
       "      <th>6</th>\n",
       "      <td>246</td>\n",
       "      <td>[Company, Entity]</td>\n",
       "      <td>3638 Scott Bridge, Lake Nicolehaven, TX 65004</td>\n",
       "      <td>info@vasquez-plc.com</td>\n",
       "      <td>200034</td>\n",
       "      <td>Vasquez PLC</td>\n",
       "      <td>278-683-4356</td>\n",
       "      <td>0</td>\n",
       "      <td>node</td>\n",
       "    </tr>\n",
       "    <tr>\n",
       "      <th>7</th>\n",
       "      <td>247</td>\n",
       "      <td>[Company, Entity]</td>\n",
       "      <td>6251 Jessica Well, Parkton, CA 77615</td>\n",
       "      <td>rachael.collins@gmail.com</td>\n",
       "      <td>200042</td>\n",
       "      <td>Rogers, Estrada and Branch</td>\n",
       "      <td>001-159-153-4551</td>\n",
       "      <td>0</td>\n",
       "      <td>node</td>\n",
       "    </tr>\n",
       "    <tr>\n",
       "      <th>8</th>\n",
       "      <td>248</td>\n",
       "      <td>[Company, Entity]</td>\n",
       "      <td>16436 James Groves, Aliciatown, MT 90920</td>\n",
       "      <td>jennifer.fleming@yahoo.com</td>\n",
       "      <td>200044</td>\n",
       "      <td>Compton, Park and Williams</td>\n",
       "      <td>7636194430</td>\n",
       "      <td>3</td>\n",
       "      <td>node</td>\n",
       "    </tr>\n",
       "    <tr>\n",
       "      <th>9</th>\n",
       "      <td>249</td>\n",
       "      <td>[Company, Entity]</td>\n",
       "      <td>9192 Erica Light Apt. 137, Smithberg, AZ 63796</td>\n",
       "      <td>info@ferguson-taylor-and-rivera.com</td>\n",
       "      <td>200055</td>\n",
       "      <td>Ferguson, Taylor and Rivera</td>\n",
       "      <td>637.415.8338</td>\n",
       "      <td>1</td>\n",
       "      <td>node</td>\n",
       "    </tr>\n",
       "  </tbody>\n",
       "</table>\n",
       "</div>"
      ],
      "text/plain": [
       "   v.internal_id           v.labels  \\\n",
       "0            240  [Company, Entity]   \n",
       "1            241  [Company, Entity]   \n",
       "2            242  [Company, Entity]   \n",
       "3            243  [Company, Entity]   \n",
       "4            244  [Company, Entity]   \n",
       "5            245  [Company, Entity]   \n",
       "6            246  [Company, Entity]   \n",
       "7            247  [Company, Entity]   \n",
       "8            248  [Company, Entity]   \n",
       "9            249  [Company, Entity]   \n",
       "\n",
       "                                           v.address  \\\n",
       "0  24524 Peterson Forge Suite 370, New Ryan, CA 8...   \n",
       "1                   Unit 3637 Box 9875, DPO AA 45687   \n",
       "2  6636 Thomas Glen Suite 304, Christopherfort, P...   \n",
       "3  75570 Danielle Harbors Apt. 938, West Maryburg...   \n",
       "4             956 Burns Rest, Lake Anthony, CA 11768   \n",
       "5           34943 Smith Cliffs, Millerbury, NY 26434   \n",
       "6      3638 Scott Bridge, Lake Nicolehaven, TX 65004   \n",
       "7               6251 Jessica Well, Parkton, CA 77615   \n",
       "8           16436 James Groves, Aliciatown, MT 90920   \n",
       "9     9192 Erica Light Apt. 137, Smithberg, AZ 63796   \n",
       "\n",
       "                            v.email_addr v.entity_id  \\\n",
       "0                    info@jensen-plc.com      200013   \n",
       "1   info@garcia-sullivan-and-merritt.com      200014   \n",
       "2             kimberly.edwards@yahoo.com      200019   \n",
       "3                james.green@hotmail.com      200020   \n",
       "4                info@smith-and-sons.com      200022   \n",
       "5  info@hinton-matthews-and-anderson.com      200026   \n",
       "6                   info@vasquez-plc.com      200034   \n",
       "7              rachael.collins@gmail.com      200042   \n",
       "8             jennifer.fleming@yahoo.com      200044   \n",
       "9    info@ferguson-taylor-and-rivera.com      200055   \n",
       "\n",
       "                          v.name         v.phone_number  v.risk_score v.type  \n",
       "0                     Jensen PLC      (847)914-0048x129             3   node  \n",
       "1   Garcia, Sullivan and Merritt             3284179392             1   node  \n",
       "2              Thompson and Sons    +1-252-433-8553x534             0   node  \n",
       "3                 Thompson-Fritz  001-138-182-1805x0277             0   node  \n",
       "4                 Smith and Sons             2754758785             4   node  \n",
       "5  Hinton, Matthews and Anderson   001-028-223-8820x612             1   node  \n",
       "6                    Vasquez PLC           278-683-4356             0   node  \n",
       "7     Rogers, Estrada and Branch       001-159-153-4551             0   node  \n",
       "8     Compton, Park and Williams             7636194430             3   node  \n",
       "9    Ferguson, Taylor and Rivera           637.415.8338             1   node  "
      ]
     },
     "execution_count": 45,
     "metadata": {},
     "output_type": "execute_result"
    }
   ],
   "source": [
    "graph.query(\"match (v:Company) return v limit 10\")"
   ]
  },
  {
   "cell_type": "code",
   "execution_count": null,
   "id": "67ab12ae-2768-4c37-9a34-b28d322dfe0c",
   "metadata": {
    "jupyter": {
     "source_hidden": true
    },
    "tags": []
   },
   "outputs": [],
   "source": [
    "graph.query(\"match ()-[r]->() return r limit 10\")"
   ]
  },
  {
   "cell_type": "code",
   "execution_count": 43,
   "id": "95cdb0f5-c915-4506-b0c3-240c30d719a6",
   "metadata": {},
   "outputs": [
    {
     "data": {
      "application/vnd.jupyter.widget-view+json": {
       "model_id": "26d6ae9b046248b1934577badfd1947b",
       "version_major": 2,
       "version_minor": 0
      },
      "text/plain": [
       "          0/? [?op/s]"
      ]
     },
     "metadata": {},
     "output_type": "display_data"
    },
    {
     "data": {
      "application/vnd.jupyter.widget-view+json": {
       "model_id": "463e25478e9b4dbfaf8d12ddbd59331c",
       "version_major": 2,
       "version_minor": 0
      },
      "text/plain": [
       "VBox(children=(HTML(value='\\n                <style>\\n                #jp-main-content-panel .widget-container…"
      ]
     },
     "metadata": {},
     "output_type": "display_data"
    }
   ],
   "source": [
    "graph.schema().view()"
   ]
  },
  {
   "cell_type": "code",
   "execution_count": 5,
   "id": "69eff6bd-c885-4627-ae10-4f8005c0b4b1",
   "metadata": {},
   "outputs": [
    {
     "data": {
      "application/vnd.jupyter.widget-view+json": {
       "model_id": "56a759586f7f4dafab1d75c0bc13d920",
       "version_major": 2,
       "version_minor": 0
      },
      "text/plain": [
       "          0/? [?op/s]"
      ]
     },
     "metadata": {},
     "output_type": "display_data"
    },
    {
     "data": {
      "text/html": [
       "<div>\n",
       "<style scoped>\n",
       "    .dataframe tbody tr th:only-of-type {\n",
       "        vertical-align: middle;\n",
       "    }\n",
       "\n",
       "    .dataframe tbody tr th {\n",
       "        vertical-align: top;\n",
       "    }\n",
       "\n",
       "    .dataframe thead th {\n",
       "        text-align: right;\n",
       "    }\n",
       "</style>\n",
       "<table border=\"1\" class=\"dataframe\">\n",
       "  <thead>\n",
       "    <tr style=\"text-align: right;\">\n",
       "      <th></th>\n",
       "      <th>first</th>\n",
       "      <th>second</th>\n",
       "      <th>third</th>\n",
       "      <th>fourth</th>\n",
       "      <th>total</th>\n",
       "    </tr>\n",
       "  </thead>\n",
       "  <tbody>\n",
       "    <tr>\n",
       "      <th>0</th>\n",
       "      <td>Valdez-Daniels</td>\n",
       "      <td>Lee and Sons</td>\n",
       "      <td>Clark-Wood</td>\n",
       "      <td>Lee and Sons</td>\n",
       "      <td>15677</td>\n",
       "    </tr>\n",
       "    <tr>\n",
       "      <th>1</th>\n",
       "      <td>Lee and Sons</td>\n",
       "      <td>Miller Inc</td>\n",
       "      <td>Clark-Wood</td>\n",
       "      <td>Lee and Sons</td>\n",
       "      <td>15677</td>\n",
       "    </tr>\n",
       "    <tr>\n",
       "      <th>2</th>\n",
       "      <td>Sharon Gomez</td>\n",
       "      <td>Lee and Sons</td>\n",
       "      <td>Clark-Wood</td>\n",
       "      <td>Lee and Sons</td>\n",
       "      <td>15677</td>\n",
       "    </tr>\n",
       "    <tr>\n",
       "      <th>3</th>\n",
       "      <td>Gardner LLC</td>\n",
       "      <td>Lee and Sons</td>\n",
       "      <td>Clark-Wood</td>\n",
       "      <td>Lee and Sons</td>\n",
       "      <td>15677</td>\n",
       "    </tr>\n",
       "    <tr>\n",
       "      <th>4</th>\n",
       "      <td>Cowan, Velazquez and Ortiz</td>\n",
       "      <td>Cohen PLC</td>\n",
       "      <td>Clark-Wood</td>\n",
       "      <td>Lee and Sons</td>\n",
       "      <td>15677</td>\n",
       "    </tr>\n",
       "    <tr>\n",
       "      <th>...</th>\n",
       "      <td>...</td>\n",
       "      <td>...</td>\n",
       "      <td>...</td>\n",
       "      <td>...</td>\n",
       "      <td>...</td>\n",
       "    </tr>\n",
       "    <tr>\n",
       "      <th>238</th>\n",
       "      <td>Smith and Sons</td>\n",
       "      <td>Valdez-Daniels</td>\n",
       "      <td>Lee and Sons</td>\n",
       "      <td>Clark-Wood</td>\n",
       "      <td>15222</td>\n",
       "    </tr>\n",
       "    <tr>\n",
       "      <th>239</th>\n",
       "      <td>Owens-Larson</td>\n",
       "      <td>Valdez-Daniels</td>\n",
       "      <td>Lee and Sons</td>\n",
       "      <td>Clark-Wood</td>\n",
       "      <td>15222</td>\n",
       "    </tr>\n",
       "    <tr>\n",
       "      <th>240</th>\n",
       "      <td>Lee and Sons</td>\n",
       "      <td>Valdez-Daniels</td>\n",
       "      <td>Lee and Sons</td>\n",
       "      <td>Clark-Wood</td>\n",
       "      <td>15222</td>\n",
       "    </tr>\n",
       "    <tr>\n",
       "      <th>241</th>\n",
       "      <td>Sanchez, Taylor and Ross</td>\n",
       "      <td>Valdez-Daniels</td>\n",
       "      <td>Lee and Sons</td>\n",
       "      <td>Clark-Wood</td>\n",
       "      <td>15222</td>\n",
       "    </tr>\n",
       "    <tr>\n",
       "      <th>242</th>\n",
       "      <td>Cooper Group</td>\n",
       "      <td>Vargas Group</td>\n",
       "      <td>Ramos, Williams and Schultz</td>\n",
       "      <td>Smith, Davis and Reyes</td>\n",
       "      <td>18640</td>\n",
       "    </tr>\n",
       "  </tbody>\n",
       "</table>\n",
       "<p>243 rows x 5 columns</p>\n",
       "</div>"
      ],
      "text/plain": [
       "                          first          second                        third  \\\n",
       "0                Valdez-Daniels    Lee and Sons                   Clark-Wood   \n",
       "1                  Lee and Sons      Miller Inc                   Clark-Wood   \n",
       "2                  Sharon Gomez    Lee and Sons                   Clark-Wood   \n",
       "3                   Gardner LLC    Lee and Sons                   Clark-Wood   \n",
       "4    Cowan, Velazquez and Ortiz       Cohen PLC                   Clark-Wood   \n",
       "..                          ...             ...                          ...   \n",
       "238              Smith and Sons  Valdez-Daniels                 Lee and Sons   \n",
       "239                Owens-Larson  Valdez-Daniels                 Lee and Sons   \n",
       "240                Lee and Sons  Valdez-Daniels                 Lee and Sons   \n",
       "241    Sanchez, Taylor and Ross  Valdez-Daniels                 Lee and Sons   \n",
       "242                Cooper Group    Vargas Group  Ramos, Williams and Schultz   \n",
       "\n",
       "                     fourth  total  \n",
       "0              Lee and Sons  15677  \n",
       "1              Lee and Sons  15677  \n",
       "2              Lee and Sons  15677  \n",
       "3              Lee and Sons  15677  \n",
       "4              Lee and Sons  15677  \n",
       "..                      ...    ...  \n",
       "238              Clark-Wood  15222  \n",
       "239              Clark-Wood  15222  \n",
       "240              Clark-Wood  15222  \n",
       "241              Clark-Wood  15222  \n",
       "242  Smith, Davis and Reyes  18640  \n",
       "\n",
       "[243 rows x 5 columns]"
      ]
     },
     "execution_count": 5,
     "metadata": {},
     "output_type": "execute_result"
    }
   ],
   "source": [
    "smurfing = graph.query(\n",
    "'''\n",
    "MATCH\n",
    "  (p1)-->(p2)-->(p9)-[tx9]->(p11:Company),\n",
    "  (p3)-->(p4)-->(p9),\n",
    "  (p5)-->(p6)-->(p10)-[tx10]->(p11),\n",
    "  (p7)-->(p8)-->(p10)\n",
    "WITH tx9.txn_amount + tx10.txn_amount AS total, p1.name AS first, p2.name AS second, p9.name AS third, p11.name AS fourth\n",
    "WHERE total > 15000\n",
    "RETURN DISTINCT first, second, third, fourth, total;\n",
    "    '''\n",
    ")\n",
    "smurfing"
   ]
  },
  {
   "cell_type": "code",
   "execution_count": 6,
   "id": "3a006335-d401-4702-aa53-b60a1aa77f56",
   "metadata": {},
   "outputs": [
    {
     "data": {
      "application/vnd.jupyter.widget-view+json": {
       "model_id": "1c5c0aed616c4f99aba5c802b543dae5",
       "version_major": 2,
       "version_minor": 0
      },
      "text/plain": [
       "          0/? [?op/s]"
      ]
     },
     "metadata": {},
     "output_type": "display_data"
    },
    {
     "data": {
      "text/html": [
       "<div>\n",
       "<style scoped>\n",
       "    .dataframe tbody tr th:only-of-type {\n",
       "        vertical-align: middle;\n",
       "    }\n",
       "\n",
       "    .dataframe tbody tr th {\n",
       "        vertical-align: top;\n",
       "    }\n",
       "\n",
       "    .dataframe thead th {\n",
       "        text-align: right;\n",
       "    }\n",
       "</style>\n",
       "<table border=\"1\" class=\"dataframe\">\n",
       "  <thead>\n",
       "    <tr style=\"text-align: right;\">\n",
       "      <th></th>\n",
       "      <th>a</th>\n",
       "      <th>b</th>\n",
       "      <th>c</th>\n",
       "      <th>agg_txn_amount</th>\n",
       "    </tr>\n",
       "  </thead>\n",
       "  <tbody>\n",
       "    <tr>\n",
       "      <th>0</th>\n",
       "      <td>Cheryl Ferguson</td>\n",
       "      <td>Thompson and Sons</td>\n",
       "      <td>Thompson and Sons</td>\n",
       "      <td>38690</td>\n",
       "    </tr>\n",
       "    <tr>\n",
       "      <th>1</th>\n",
       "      <td>Cheryl Ferguson</td>\n",
       "      <td>Thompson and Sons</td>\n",
       "      <td>Thompson and Sons</td>\n",
       "      <td>38602</td>\n",
       "    </tr>\n",
       "    <tr>\n",
       "      <th>2</th>\n",
       "      <td>Cheryl Ferguson</td>\n",
       "      <td>Thompson and Sons</td>\n",
       "      <td>Thompson and Sons</td>\n",
       "      <td>38602</td>\n",
       "    </tr>\n",
       "    <tr>\n",
       "      <th>3</th>\n",
       "      <td>Cheryl Ferguson</td>\n",
       "      <td>Thompson and Sons</td>\n",
       "      <td>Thompson and Sons</td>\n",
       "      <td>38514</td>\n",
       "    </tr>\n",
       "    <tr>\n",
       "      <th>4</th>\n",
       "      <td>Michelle Smith</td>\n",
       "      <td>Garcia, Sullivan and Merritt</td>\n",
       "      <td>Moore, Williams and Chen</td>\n",
       "      <td>10166</td>\n",
       "    </tr>\n",
       "    <tr>\n",
       "      <th>...</th>\n",
       "      <td>...</td>\n",
       "      <td>...</td>\n",
       "      <td>...</td>\n",
       "      <td>...</td>\n",
       "    </tr>\n",
       "    <tr>\n",
       "      <th>90</th>\n",
       "      <td>Gardner LLC</td>\n",
       "      <td>Nelson-Phillips</td>\n",
       "      <td>Dean Inc</td>\n",
       "      <td>25064</td>\n",
       "    </tr>\n",
       "    <tr>\n",
       "      <th>91</th>\n",
       "      <td>Denise Taylor</td>\n",
       "      <td>Williams-Brown</td>\n",
       "      <td>Yang PLC</td>\n",
       "      <td>15235</td>\n",
       "    </tr>\n",
       "    <tr>\n",
       "      <th>92</th>\n",
       "      <td>Wendy Ray</td>\n",
       "      <td>Miles LLC</td>\n",
       "      <td>Thompson-Fritz</td>\n",
       "      <td>16762</td>\n",
       "    </tr>\n",
       "    <tr>\n",
       "      <th>93</th>\n",
       "      <td>Sandoval, Williams and Golden</td>\n",
       "      <td>Banks, Diaz and Lopez</td>\n",
       "      <td>Garcia, Sullivan and Merritt</td>\n",
       "      <td>22346</td>\n",
       "    </tr>\n",
       "    <tr>\n",
       "      <th>94</th>\n",
       "      <td>Jensen PLC</td>\n",
       "      <td>Moore, Williams and Chen</td>\n",
       "      <td>Garcia, Sullivan and Merritt</td>\n",
       "      <td>15265</td>\n",
       "    </tr>\n",
       "  </tbody>\n",
       "</table>\n",
       "<p>95 rows x 4 columns</p>\n",
       "</div>"
      ],
      "text/plain": [
       "                                a                             b  \\\n",
       "0                 Cheryl Ferguson             Thompson and Sons   \n",
       "1                 Cheryl Ferguson             Thompson and Sons   \n",
       "2                 Cheryl Ferguson             Thompson and Sons   \n",
       "3                 Cheryl Ferguson             Thompson and Sons   \n",
       "4                  Michelle Smith  Garcia, Sullivan and Merritt   \n",
       "..                            ...                           ...   \n",
       "90                    Gardner LLC               Nelson-Phillips   \n",
       "91                  Denise Taylor                Williams-Brown   \n",
       "92                      Wendy Ray                     Miles LLC   \n",
       "93  Sandoval, Williams and Golden         Banks, Diaz and Lopez   \n",
       "94                     Jensen PLC      Moore, Williams and Chen   \n",
       "\n",
       "                               c  agg_txn_amount  \n",
       "0              Thompson and Sons           38690  \n",
       "1              Thompson and Sons           38602  \n",
       "2              Thompson and Sons           38602  \n",
       "3              Thompson and Sons           38514  \n",
       "4       Moore, Williams and Chen           10166  \n",
       "..                           ...             ...  \n",
       "90                      Dean Inc           25064  \n",
       "91                      Yang PLC           15235  \n",
       "92                Thompson-Fritz           16762  \n",
       "93  Garcia, Sullivan and Merritt           22346  \n",
       "94  Garcia, Sullivan and Merritt           15265  \n",
       "\n",
       "[95 rows x 4 columns]"
      ]
     },
     "execution_count": 6,
     "metadata": {},
     "output_type": "execute_result"
    }
   ],
   "source": [
    "round_tripping = graph.query(\n",
    "'''\n",
    "\n",
    "MATCH\n",
    "  (a)-[e1]->(b)-[e2]->(c:Company)-[e3]->(b)-[e4]->(a)\n",
    "WITH e1.txn_amount + e2.txn_amount + e3.txn_amount + e4.txn_amount AS agg_txn_amount, a.name AS a, b.name AS b, c.name AS c\n",
    "RETURN a, b, c, agg_txn_amount;\n",
    "    '''\n",
    ")\n",
    "\n",
    "round_tripping"
   ]
  },
  {
   "cell_type": "code",
   "execution_count": null,
   "id": "1d6e2c5e-2ef0-437e-b572-3cee7f80344f",
   "metadata": {},
   "outputs": [],
   "source": []
  }
 ],
 "metadata": {
  "kernelspec": {
   "display_name": "Python 3 (ipykernel)",
   "language": "python",
   "name": "python3"
  },
  "language_info": {
   "codemirror_mode": {
    "name": "ipython",
    "version": 3
   },
   "file_extension": ".py",
   "mimetype": "text/x-python",
   "name": "python",
   "nbconvert_exporter": "python",
   "pygments_lexer": "ipython3",
   "version": "3.8.13"
  }
 },
 "nbformat": 4,
 "nbformat_minor": 5
}
