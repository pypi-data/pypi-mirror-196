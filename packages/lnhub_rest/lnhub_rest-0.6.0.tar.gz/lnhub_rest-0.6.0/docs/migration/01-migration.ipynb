{
 "cells": [
  {
   "cell_type": "markdown",
   "metadata": {},
   "source": [
    "# Test migration"
   ]
  },
  {
   "cell_type": "code",
   "execution_count": null,
   "metadata": {
    "tags": []
   },
   "outputs": [],
   "source": [
    "import os\n",
    "\n",
    "os.chdir(\"../../\")"
   ]
  },
  {
   "cell_type": "code",
   "execution_count": null,
   "metadata": {
    "tags": []
   },
   "outputs": [],
   "source": [
    "import time\n",
    "from subprocess import run\n",
    "from typing import Optional\n",
    "\n",
    "import erdiagram\n",
    "import sqlalchemy as sa\n",
    "from lamin_logger import logger\n",
    "from lndb._settings import InstanceSettings, settings\n",
    "from lndb.test import get_package_name\n",
    "from lndb.test._migrations_unit import (\n",
    "    execute_model_definitions_match_ddl,\n",
    "    get_migration_config,\n",
    "    get_migration_id_from_scripts,\n",
    "    migration_id_is_consistent,\n",
    ")\n",
    "from pytest_alembic.executor import CommandExecutor, ConnectionExecutor\n",
    "from pytest_alembic.runner import MigrationContext\n",
    "from sqlalchemy import MetaData, create_engine, func, select\n",
    "\n",
    "from lnhub_rest import engine\n",
    "from lnhub_rest.schema._core import SQLModel  # updated registry in it!\n",
    "from lnhub_rest.schema.migrations.settings import PROD_URL\n",
    "from lnhub_rest.schema.migrations.utils import include_name\n",
    "from lndb.dev._clone import clone_test"
   ]
  },
  {
   "cell_type": "code",
   "execution_count": null,
   "metadata": {
    "tags": []
   },
   "outputs": [],
   "source": [
    "package_name = get_package_name()\n",
    "schema_package_loc = f\"./{package_name}/schema\""
   ]
  },
  {
   "cell_type": "code",
   "execution_count": null,
   "metadata": {
    "tags": []
   },
   "outputs": [],
   "source": [
    "def get_migration_context(schema_package_loc):\n",
    "    src_settings = InstanceSettings(\n",
    "        storage_root=\"teststore\",\n",
    "        db=PROD_URL,\n",
    "        name=\"testdb\",\n",
    "        owner=\"testuser1\",\n",
    "    )\n",
    "    connection_string = clone_test(src_settings=src_settings, supabase=True)\n",
    "    engine = sa.create_engine(connection_string)\n",
    "    target_metadata = SQLModel.metadata\n",
    "    config = get_migration_config(\n",
    "        schema_package_loc,\n",
    "        target_metadata=target_metadata,\n",
    "        include_schemas=True,\n",
    "        include_name=include_name,\n",
    "    )\n",
    "    command_executor = CommandExecutor.from_config(config)\n",
    "    command_executor.configure(connection=engine)\n",
    "    migration_context = MigrationContext.from_config(\n",
    "        config, command_executor, ConnectionExecutor(), engine\n",
    "    )\n",
    "    return migration_context\n",
    "\n",
    "\n",
    "def test_migration_id_is_consistent():\n",
    "    assert migration_id_is_consistent(schema_package_loc)\n",
    "\n",
    "\n",
    "def test_model_definitions_match_ddl_postgres():\n",
    "    migration_context = get_migration_context(schema_package_loc)\n",
    "    execute_model_definitions_match_ddl(migration_context)\n",
    "\n",
    "\n",
    "def test_export_schema():\n",
    "    migration_id = get_migration_id_from_scripts(schema_package_loc)\n",
    "    metadata = sa.MetaData(bind=engine)\n",
    "    metadata.reflect()\n",
    "    graph = erdiagram.create_schema_graph(\n",
    "        metadata=metadata,\n",
    "        show_datatypes=False,\n",
    "        show_indexes=False,\n",
    "        rankdir=\"LR\",\n",
    "        concentrate=True,\n",
    "    )\n",
    "    try:\n",
    "        graph.write_svg(f\"./docs/_schemas/lnhub-schema-{migration_id}.svg\")\n",
    "    except FileNotFoundError:\n",
    "        print(\"Did not write schema graph.\")"
   ]
  },
  {
   "cell_type": "code",
   "execution_count": null,
   "metadata": {
    "tags": []
   },
   "outputs": [],
   "source": [
    "test_migration_id_is_consistent()"
   ]
  },
  {
   "cell_type": "code",
   "execution_count": null,
   "metadata": {
    "tags": []
   },
   "outputs": [],
   "source": [
    "test_model_definitions_match_ddl_postgres()"
   ]
  },
  {
   "cell_type": "code",
   "execution_count": null,
   "metadata": {},
   "outputs": [],
   "source": [
    "test_export_schema()"
   ]
  },
  {
   "cell_type": "code",
   "execution_count": null,
   "metadata": {},
   "outputs": [],
   "source": []
  }
 ],
 "metadata": {
  "kernelspec": {
   "display_name": "Python 3 (ipykernel)",
   "language": "python",
   "name": "python3"
  },
  "language_info": {
   "codemirror_mode": {
    "name": "ipython",
    "version": 3
   },
   "file_extension": ".py",
   "mimetype": "text/x-python",
   "name": "python",
   "nbconvert_exporter": "python",
   "pygments_lexer": "ipython3",
   "version": "3.9.13"
  },
  "vscode": {
   "interpreter": {
    "hash": "2841734f87827db3a7b3181a6051fe720e9968e703956c2bd6988b5a29362801"
   }
  }
 },
 "nbformat": 4,
 "nbformat_minor": 4
}
