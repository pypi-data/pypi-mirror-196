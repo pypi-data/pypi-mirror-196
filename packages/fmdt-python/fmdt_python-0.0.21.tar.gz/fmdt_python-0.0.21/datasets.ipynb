{
 "cells": [
  {
   "attachments": {},
   "cell_type": "markdown",
   "metadata": {},
   "source": [
    "### Datasets\n",
    "\n",
    "In this journal we explore the ground truths data set and how `fmdt-detect` interacts with it."
   ]
  },
  {
   "cell_type": "code",
   "execution_count": 1,
   "metadata": {},
   "outputs": [],
   "source": [
    "import fmdt\n",
    "import fmdt.truth"
   ]
  },
  {
   "cell_type": "code",
   "execution_count": 2,
   "metadata": {},
   "outputs": [
    {
     "name": "stdout",
     "output_type": "stream",
     "text": [
      "GroundTruth with 38 detections, 38 unique videos, and db dir:\n",
      "\t/home/ejovo/Videos/Watec6mm\n"
     ]
    }
   ],
   "source": [
    "gt6 = fmdt.truth.GroundTruth(csv=\"human_detections_draco6.csv\", vid_dir=\"/home/ejovo/Videos/Watec6mm\")\n",
    "print(gt6)"
   ]
  },
  {
   "attachments": {},
   "cell_type": "markdown",
   "metadata": {},
   "source": [
    "A `GroundTruth` object is a list of `HumanDetections` combined with a series of helpful functions"
   ]
  },
  {
   "cell_type": "code",
   "execution_count": 3,
   "metadata": {},
   "outputs": [
    {
     "name": "stdout",
     "output_type": "stream",
     "text": [
      "<class 'fmdt.truth.GroundTruth'>\n",
      "<class 'list'>\n",
      "<class 'fmdt.truth.HumanDetection'>\n",
      "(/home/ejovo/Videos/Watec6mm/Draconids-6mm1.00-2750-163200.avi, f0: 45, fT: 59, pos0: (240.0, 226.0), posT: (125.0, 264.0))\n",
      "(/home/ejovo/Videos/Watec6mm/Draconids-6mm1.05-0750-164200.avi, f0: 16, fT: 26, pos0: (12.0, 339.0), posT: (4.0, 360.0))\n",
      "(/home/ejovo/Videos/Watec6mm/Draconids-6mm1.14-1400-170300.avi, f0: 11, fT: 24, pos0: (11.0, 233.0), posT: (14.0, 273.0))\n",
      "(/home/ejovo/Videos/Watec6mm/Draconids-6mm1.20-2350-171600.avi, f0: 22, fT: 38, pos0: (232.0, 368.0), posT: (237.0, 396.0))\n",
      "(/home/ejovo/Videos/Watec6mm/Draconids-6mm1.29-2550-173600.avi, f0: 8, fT: 18, pos0: (148.0, 407.0), posT: (151.0, 429.0))\n",
      "(/home/ejovo/Videos/Watec6mm/Draconids-6mm1.30-2050-173800.avi, f0: 66, fT: 70, pos0: (234.0, 1.0), posT: (237.0, 18.0))\n",
      "(/home/ejovo/Videos/Watec6mm/Draconids-6mm1.32-3150-174200.avi, f0: 24, fT: 32, pos0: (91.0, 170.0), posT: (105.0, 196.0))\n",
      "(/home/ejovo/Videos/Watec6mm/Draconids-6mm1.34-3050-174700.avi, f0: 35, fT: 44, pos0: (513.0, 276.0), posT: (513.0, 302.0))\n"
     ]
    }
   ],
   "source": [
    "print(type(gt6))\n",
    "print(type(gt6.meteors))\n",
    "print(type(gt6.meteors[0]))\n",
    "for i in range(8):\n",
    "    print(gt6.meteors[i])"
   ]
  },
  {
   "attachments": {},
   "cell_type": "markdown",
   "metadata": {},
   "source": [
    "Let's handpick a few parameters for `fmdt-detect`:"
   ]
  },
  {
   "cell_type": "code",
   "execution_count": 4,
   "metadata": {},
   "outputs": [],
   "source": [
    "d_args = {\n",
    "    \"light_min\": 250,\n",
    "    \"light_max\": 255,\n",
    "    \"trk_all\": True\n",
    "}"
   ]
  },
  {
   "attachments": {},
   "cell_type": "markdown",
   "metadata": {},
   "source": [
    "Then we make an `Args` object with"
   ]
  },
  {
   "cell_type": "code",
   "execution_count": 5,
   "metadata": {},
   "outputs": [
    {
     "name": "stdout",
     "output_type": "stream",
     "text": [
      "{'light_min': 250, 'light_max': 255, 'trk_all': True}\n"
     ]
    }
   ],
   "source": [
    "args = fmdt.Args(detect_args=d_args)\n",
    "print(args)"
   ]
  },
  {
   "cell_type": "code",
   "execution_count": 10,
   "metadata": {},
   "outputs": [
    {
     "name": "stderr",
     "output_type": "stream",
     "text": [
      "which: no fmdt-detect in (/bin:/home/ejovo/.local/bin:/home/ejovo/.cargo/bin:/usr/local/bin:/usr/bin:/usr/local/sbin:/opt/cuda/bin:/opt/cuda/nsight_compute:/opt/cuda/nsight_systems/bin:/usr/lib/jvm/default/bin:/opt/mpich/bin:/usr/bin/site_perl:/usr/bin/vendor_perl:/usr/bin/core_perl:/home/ejovo/.cargo/bin:/usr/local/bin:/usr/bin:/usr/local/sbin:/opt/cuda/bin:/opt/cuda/nsight_compute:/opt/cuda/nsight_systems/bin:/usr/lib/jvm/default/bin:/opt/mpich/bin:/usr/bin/site_perl:/usr/bin/vendor_perl:/usr/bin/core_perl)\n"
     ]
    }
   ],
   "source": [
    "import subprocess\n",
    "\n",
    "\n",
    "# cmd = [\"which\", \"fmdt-detect\"]\n",
    "cmd = [\"bash\", \"-c\", \"echo $PATH\"]\n",
    "res = subprocess.run(cmd)\n"
   ]
  },
  {
   "attachments": {},
   "cell_type": "markdown",
   "metadata": {},
   "source": [
    "We can now run this command for every video in our ground truth database and see which videos \n",
    "are detected."
   ]
  },
  {
   "cell_type": "code",
   "execution_count": 7,
   "metadata": {},
   "outputs": [
    {
     "name": "stdout",
     "output_type": "stream",
     "text": [
      "Trying args on video /home/ejovo/Videos/Watec6mm/Draconids-6mm1.00-2750-163200.avi\n"
     ]
    },
    {
     "ename": "AssertionError",
     "evalue": "fmdt-detect executable not found",
     "output_type": "error",
     "traceback": [
      "\u001b[0;31m---------------------------------------------------------------------------\u001b[0m",
      "\u001b[0;31mAssertionError\u001b[0m                            Traceback (most recent call last)",
      "Cell \u001b[0;32mIn[7], line 1\u001b[0m\n\u001b[0;32m----> 1\u001b[0m gt6\u001b[39m.\u001b[39;49mtry_command(args)\n",
      "File \u001b[0;32m~/MAIN/S8/METEORIX/fmdt_scripts/fmdt/truth.py:177\u001b[0m, in \u001b[0;36mGroundTruth.try_command\u001b[0;34m(self, args)\u001b[0m\n\u001b[1;32m    173\u001b[0m         \u001b[39mprint\u001b[39m(\u001b[39mf\u001b[39m\u001b[39m\"\u001b[39m\u001b[39m{\u001b[39;00mres\u001b[39m.\u001b[39mcommand()\u001b[39m}\u001b[39;00m\u001b[39m unsuccessfull \u001b[39m\u001b[39m\"\u001b[39m)\n\u001b[1;32m    175\u001b[0m     \u001b[39mreturn\u001b[39;00m is_detected\n\u001b[0;32m--> 177\u001b[0m \u001b[39mreturn\u001b[39;00m [try_comm(m) \u001b[39mfor\u001b[39;00m m \u001b[39min\u001b[39;00m \u001b[39mself\u001b[39m\u001b[39m.\u001b[39mmeteors]\n",
      "File \u001b[0;32m~/MAIN/S8/METEORIX/fmdt_scripts/fmdt/truth.py:177\u001b[0m, in \u001b[0;36m<listcomp>\u001b[0;34m(.0)\u001b[0m\n\u001b[1;32m    173\u001b[0m         \u001b[39mprint\u001b[39m(\u001b[39mf\u001b[39m\u001b[39m\"\u001b[39m\u001b[39m{\u001b[39;00mres\u001b[39m.\u001b[39mcommand()\u001b[39m}\u001b[39;00m\u001b[39m unsuccessfull \u001b[39m\u001b[39m\"\u001b[39m)\n\u001b[1;32m    175\u001b[0m     \u001b[39mreturn\u001b[39;00m is_detected\n\u001b[0;32m--> 177\u001b[0m \u001b[39mreturn\u001b[39;00m [try_comm(m) \u001b[39mfor\u001b[39;00m m \u001b[39min\u001b[39;00m \u001b[39mself\u001b[39m\u001b[39m.\u001b[39mmeteors]\n",
      "File \u001b[0;32m~/MAIN/S8/METEORIX/fmdt_scripts/fmdt/truth.py:170\u001b[0m, in \u001b[0;36mGroundTruth.try_command.<locals>.try_comm\u001b[0;34m(m)\u001b[0m\n\u001b[1;32m    166\u001b[0m args\u001b[39m.\u001b[39mdetect_args[\u001b[39m\"\u001b[39m\u001b[39mvid_in_path\u001b[39m\u001b[39m\"\u001b[39m] \u001b[39m=\u001b[39m m\u001b[39m.\u001b[39mvideo_name\n\u001b[1;32m    168\u001b[0m \u001b[39mprint\u001b[39m(\u001b[39mf\u001b[39m\u001b[39m\"\u001b[39m\u001b[39mTrying args on video \u001b[39m\u001b[39m{\u001b[39;00margs\u001b[39m.\u001b[39mvid()\u001b[39m}\u001b[39;00m\u001b[39m\"\u001b[39m)\n\u001b[0;32m--> 170\u001b[0m res \u001b[39m=\u001b[39m args\u001b[39m.\u001b[39;49mdetect()\n\u001b[1;32m    171\u001b[0m is_detected \u001b[39m=\u001b[39m is_meteor_detected(m, res\u001b[39m.\u001b[39mtracking_list)\n\u001b[1;32m    172\u001b[0m \u001b[39mif\u001b[39;00m \u001b[39mnot\u001b[39;00m is_detected:\n",
      "File \u001b[0;32m~/MAIN/S8/METEORIX/fmdt_scripts/fmdt/args.py:92\u001b[0m, in \u001b[0;36mArgs.detect\u001b[0;34m(self)\u001b[0m\n\u001b[1;32m     89\u001b[0m     \u001b[39mself\u001b[39m\u001b[39m.\u001b[39mdetect_args \u001b[39m=\u001b[39m default_detect_args()\n\u001b[1;32m     91\u001b[0m \u001b[39m# Convert the list of detect args to a single command\u001b[39;00m\n\u001b[0;32m---> 92\u001b[0m args \u001b[39m=\u001b[39m fmdt\u001b[39m.\u001b[39;49mapi\u001b[39m.\u001b[39;49mdetect(\u001b[39m*\u001b[39;49m\u001b[39m*\u001b[39;49m\u001b[39mself\u001b[39;49m\u001b[39m.\u001b[39;49mdetect_args)\n\u001b[1;32m     94\u001b[0m \u001b[39mif\u001b[39;00m \u001b[39mnot\u001b[39;00m args\u001b[39m.\u001b[39mdetect_args[\u001b[39m\"\u001b[39m\u001b[39mtrk_out_path\u001b[39m\u001b[39m\"\u001b[39m] \u001b[39mis\u001b[39;00m \u001b[39mNone\u001b[39;00m:\n\u001b[1;32m     95\u001b[0m     args\u001b[39m.\u001b[39mtracking_list \u001b[39m=\u001b[39m args\u001b[39m.\u001b[39mget_tracking_list()\n",
      "File \u001b[0;32m~/MAIN/S8/METEORIX/fmdt_scripts/fmdt/api.py:110\u001b[0m, in \u001b[0;36mdetect\u001b[0;34m(vid_in_path, vid_in_start, vid_in_stop, vid_in_skip, vid_in_buff, vid_in_loop, vid_in_threads, light_min, light_max, ccl_fra_path, ccl_fra_id, mrp_s_min, mrp_s_max, knn_k, knn_d, knn_s, trk_ext_d, trk_ext_o, trk_angle, trk_star_min, trk_meteor_min, trk_meteor_max, trk_ddev, trk_all, trk_bb_path, trk_mag_path, trk_out_path, log_path, log, timeout)\u001b[0m\n\u001b[1;32m    102\u001b[0m detect_args, visu_args \u001b[39m=\u001b[39m fmdt\u001b[39m.\u001b[39margs\u001b[39m.\u001b[39mdetect_args(vid_in_path, vid_in_start, vid_in_stop, \n\u001b[1;32m    103\u001b[0m     vid_in_skip, vid_in_buff, vid_in_loop, vid_in_threads, light_min, light_max, \n\u001b[1;32m    104\u001b[0m     ccl_fra_path, ccl_fra_id, mrp_s_min, mrp_s_max, knn_k, knn_d, knn_s, trk_ext_d,\n\u001b[1;32m    105\u001b[0m     trk_ext_o, trk_angle, trk_star_min, trk_meteor_min, trk_meteor_max, trk_ddev, \n\u001b[1;32m    106\u001b[0m     trk_all, trk_bb_path, trk_mag_path, log_path, trk_out_path, log\n\u001b[1;32m    107\u001b[0m )\n\u001b[1;32m    109\u001b[0m \u001b[39m# Spit out the commandline\u001b[39;00m\n\u001b[0;32m--> 110\u001b[0m args \u001b[39m=\u001b[39m fmdt\u001b[39m.\u001b[39;49margs\u001b[39m.\u001b[39;49mhandle_detect_args(\u001b[39m*\u001b[39;49m\u001b[39m*\u001b[39;49mdetect_args)\n\u001b[1;32m    112\u001b[0m \u001b[39mif\u001b[39;00m trk_out_path \u001b[39mis\u001b[39;00m \u001b[39mNone\u001b[39;00m:\n\u001b[1;32m    113\u001b[0m     \u001b[39mif\u001b[39;00m log:\n",
      "File \u001b[0;32m~/MAIN/S8/METEORIX/fmdt_scripts/fmdt/args.py:416\u001b[0m, in \u001b[0;36mhandle_detect_args\u001b[0;34m(vid_in_path, vid_in_start, vid_in_stop, vid_in_skip, vid_in_buff, vid_in_loop, vid_in_threads, light_min, light_max, ccl_fra_path, ccl_fra_id, mrp_s_min, mrp_s_max, knn_k, knn_d, knn_s, trk_ext_d, trk_ext_o, trk_angle, trk_star_min, trk_meteor_min, trk_meteor_max, trk_ddev, trk_all, trk_bb_path, trk_mag_path, log_path, trk_out_path, log)\u001b[0m\n\u001b[1;32m    414\u001b[0m fmdt_detect_exe \u001b[39m=\u001b[39m shutil\u001b[39m.\u001b[39mwhich(\u001b[39m\"\u001b[39m\u001b[39mfmdt-detect\u001b[39m\u001b[39m\"\u001b[39m)\n\u001b[1;32m    415\u001b[0m fmdt_detect_found \u001b[39m=\u001b[39m \u001b[39mnot\u001b[39;00m fmdt_detect_exe \u001b[39mis\u001b[39;00m \u001b[39mNone\u001b[39;00m\n\u001b[0;32m--> 416\u001b[0m \u001b[39massert\u001b[39;00m fmdt_detect_found, \u001b[39m\"\u001b[39m\u001b[39mfmdt-detect executable not found\u001b[39m\u001b[39m\"\u001b[39m\n\u001b[1;32m    417\u001b[0m args \u001b[39m=\u001b[39m [fmdt_detect_exe, \u001b[39m\"\u001b[39m\u001b[39m--vid-in-path\u001b[39m\u001b[39m\"\u001b[39m, vid_in_path]\n\u001b[1;32m    419\u001b[0m \u001b[39mdef\u001b[39;00m \u001b[39marg_str\u001b[39m(arg: \u001b[39mstr\u001b[39m \u001b[39m|\u001b[39m \u001b[39mNone\u001b[39;00m, flag: \u001b[39mstr\u001b[39m) \u001b[39m-\u001b[39m\u001b[39m>\u001b[39m \u001b[39mNone\u001b[39;00m:\n",
      "\u001b[0;31mAssertionError\u001b[0m: fmdt-detect executable not found"
     ]
    }
   ],
   "source": [
    "gt6.try_command(args)"
   ]
  }
 ],
 "metadata": {
  "kernelspec": {
   "display_name": "Python 3",
   "language": "python",
   "name": "python3"
  },
  "language_info": {
   "codemirror_mode": {
    "name": "ipython",
    "version": 3
   },
   "file_extension": ".py",
   "mimetype": "text/x-python",
   "name": "python",
   "nbconvert_exporter": "python",
   "pygments_lexer": "ipython3",
   "version": "3.10.9"
  },
  "orig_nbformat": 4
 },
 "nbformat": 4,
 "nbformat_minor": 2
}
