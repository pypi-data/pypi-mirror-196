{
 "cells": [
  {
   "cell_type": "code",
   "execution_count": 1,
   "id": "6f51db3c-66e6-4e89-abc3-281808e0b4ae",
   "metadata": {
    "execution": {
     "iopub.execute_input": "2023-03-11T06:25:39.964042Z",
     "iopub.status.busy": "2023-03-11T06:25:39.963677Z",
     "iopub.status.idle": "2023-03-11T06:25:40.010585Z",
     "shell.execute_reply": "2023-03-11T06:25:40.009382Z",
     "shell.execute_reply.started": "2023-03-11T06:25:39.964005Z"
    },
    "tags": []
   },
   "outputs": [],
   "source": [
    "from subprocess import *\n",
    "from tempfile import TemporaryDirectory\n",
    "from tomlkit import *"
   ]
  },
  {
   "cell_type": "code",
   "execution_count": 2,
   "id": "2cb4747c-7ce1-40dc-88e7-f24a80bc5b72",
   "metadata": {
    "execution": {
     "iopub.execute_input": "2023-03-11T06:25:40.012337Z",
     "iopub.status.busy": "2023-03-11T06:25:40.011997Z",
     "iopub.status.idle": "2023-03-11T06:25:41.897030Z",
     "shell.execute_reply": "2023-03-11T06:25:41.895722Z",
     "shell.execute_reply.started": "2023-03-11T06:25:40.012301Z"
    },
    "tags": []
   },
   "outputs": [
    {
     "name": "stderr",
     "output_type": "stream",
     "text": [
      "WARNING: the legacy dependency resolver is deprecated and will be removed in future versions of pip-tools. The default resolver will be changed to 'backtracking' in pip-tools 7.0.0. Specify --resolver=backtracking to silence this warning.\n",
      "beartype==0.12.0\n",
      "click==8.1.3\n",
      "gitdb==4.0.10\n",
      "gitpython==3.1.31\n",
      "loguru==0.6.0\n",
      "semver==2.13.0\n",
      "smmap==5.0.0\n",
      "tomli==2.0.1\n",
      "xdg==6.0.0\n"
     ]
    },
    {
     "data": {
      "text/plain": [
       "['beartype==0.12.0',\n",
       " 'click==8.1.3',\n",
       " 'gitdb==4.0.10',\n",
       " 'gitpython==3.1.31',\n",
       " 'loguru==0.6.0',\n",
       " 'semver==2.13.0',\n",
       " 'smmap==5.0.0',\n",
       " 'tomli==2.0.1',\n",
       " 'xdg==6.0.0']"
      ]
     },
     "execution_count": 2,
     "metadata": {},
     "output_type": "execute_result"
    }
   ],
   "source": [
    "with TemporaryDirectory() as temp:\n",
    "    file = Path(temp, \"requirements.txt\")\n",
    "    args = [\n",
    "        \"pip-compile\",\n",
    "        \"--no-header\",\n",
    "        \"--no-annotate\",\n",
    "        f\"--output-file={file.as_posix()}\",\n",
    "        \"requirements.in\",\n",
    "    ]\n",
    "    _ = check_call(args, text=True)\n",
    "    with file.open(mode=\"r\") as fh:\n",
    "        temp = fh.read().strip(\"\\n\")\n",
    "deps = temp.splitlines()\n",
    "deps"
   ]
  },
  {
   "cell_type": "code",
   "execution_count": null,
   "id": "583346df-2634-4c8f-9c1a-f7e47fe64c5f",
   "metadata": {},
   "outputs": [],
   "source": []
  },
  {
   "cell_type": "code",
   "execution_count": 34,
   "id": "40892d4e-55ce-4d47-a34c-13f72daa3292",
   "metadata": {
    "execution": {
     "iopub.execute_input": "2023-03-11T06:33:55.736267Z",
     "iopub.status.busy": "2023-03-11T06:33:55.735709Z",
     "iopub.status.idle": "2023-03-11T06:33:55.834088Z",
     "shell.execute_reply": "2023-03-11T06:33:55.833198Z",
     "shell.execute_reply.started": "2023-03-11T06:33:55.736226Z"
    },
    "tags": []
   },
   "outputs": [
    {
     "data": {
      "text/plain": [
       "['beartype >= 0.12.0',\n",
       " 'click >= 8.1.3',\n",
       " 'gitpython >= 3.1.30',\n",
       " 'loguru >= 0.6.0',\n",
       " 'semver >= 2.13.0',\n",
       " 'tomli >= 2.0.1',\n",
       " 'xdg >= 5.1.1']"
      ]
     },
     "execution_count": 34,
     "metadata": {},
     "output_type": "execute_result"
    }
   ],
   "source": [
    "with (pypr_file := Path(\"pyproject.toml\")).open(mode=\"r\") as fh:\n",
    "    pypr_str = fh.read()\n",
    "doc = parse(pypr_str)\n",
    "doc[\"project\"][\"dependencies\"]"
   ]
  },
  {
   "cell_type": "code",
   "execution_count": 35,
   "id": "8de8ae3b-d4a7-42ea-8289-9efecfb1f423",
   "metadata": {
    "execution": {
     "iopub.execute_input": "2023-03-11T06:33:55.868191Z",
     "iopub.status.busy": "2023-03-11T06:33:55.867879Z",
     "iopub.status.idle": "2023-03-11T06:33:55.888261Z",
     "shell.execute_reply": "2023-03-11T06:33:55.887274Z",
     "shell.execute_reply.started": "2023-03-11T06:33:55.868167Z"
    },
    "tags": []
   },
   "outputs": [
    {
     "data": {
      "text/html": [
       "<pre style=\"white-space:pre;overflow-x:auto;line-height:normal;font-family:Menlo,'DejaVu Sans Mono',consolas,'Courier New',monospace\"><span style=\"font-weight: bold\">[</span>\n",
       "  <span style=\"color: #008000; text-decoration-color: #008000\">\"beartype==0.12.0\"</span>,\n",
       "  <span style=\"color: #008000; text-decoration-color: #008000\">\"click==8.1.3\"</span>,\n",
       "  <span style=\"color: #008000; text-decoration-color: #008000\">\"gitdb==4.0.10\"</span>,\n",
       "  <span style=\"color: #008000; text-decoration-color: #008000\">\"gitpython==3.1.31\"</span>,\n",
       "  <span style=\"color: #008000; text-decoration-color: #008000\">\"loguru==0.6.0\"</span>,\n",
       "  <span style=\"color: #008000; text-decoration-color: #008000\">\"semver==2.13.0\"</span>,\n",
       "  <span style=\"color: #008000; text-decoration-color: #008000\">\"smmap==5.0.0\"</span>,\n",
       "  <span style=\"color: #008000; text-decoration-color: #008000\">\"tomli==2.0.1\"</span>,\n",
       "  <span style=\"color: #008000; text-decoration-color: #008000\">\"xdg==6.0.0\"</span>,\n",
       "<span style=\"font-weight: bold\">]</span>\n",
       "</pre>\n"
      ],
      "text/plain": [
       "\u001b[1m[\u001b[0m\n",
       "  \u001b[32m\"\u001b[0m\u001b[32mbeartype\u001b[0m\u001b[32m==0.12.0\"\u001b[0m,\n",
       "  \u001b[32m\"\u001b[0m\u001b[32mclick\u001b[0m\u001b[32m==8.1.3\"\u001b[0m,\n",
       "  \u001b[32m\"\u001b[0m\u001b[32mgitdb\u001b[0m\u001b[32m==4.0.10\"\u001b[0m,\n",
       "  \u001b[32m\"\u001b[0m\u001b[32mgitpython\u001b[0m\u001b[32m==3.1.31\"\u001b[0m,\n",
       "  \u001b[32m\"\u001b[0m\u001b[32mloguru\u001b[0m\u001b[32m==0.6.0\"\u001b[0m,\n",
       "  \u001b[32m\"\u001b[0m\u001b[32msemver\u001b[0m\u001b[32m==2.13.0\"\u001b[0m,\n",
       "  \u001b[32m\"\u001b[0m\u001b[32msmmap\u001b[0m\u001b[32m==5.0.0\"\u001b[0m,\n",
       "  \u001b[32m\"\u001b[0m\u001b[32mtomli\u001b[0m\u001b[32m==2.0.1\"\u001b[0m,\n",
       "  \u001b[32m\"\u001b[0m\u001b[32mxdg\u001b[0m\u001b[32m==6.0.0\"\u001b[0m,\n",
       "\u001b[1m]\u001b[0m\n"
      ]
     },
     "metadata": {},
     "output_type": "display_data"
    }
   ],
   "source": [
    "from textwrap import *\n",
    "\n",
    "indented = indent(\"\\n\".join(f'\"{dep}\",' for dep in deps), \"  \")\n",
    "new = f\"[\\n{indented}\\n]\"\n",
    "print(new)"
   ]
  },
  {
   "cell_type": "code",
   "execution_count": 40,
   "id": "b6301343-809f-480e-8e54-391cba383ca0",
   "metadata": {
    "execution": {
     "iopub.execute_input": "2023-03-11T06:34:49.757444Z",
     "iopub.status.busy": "2023-03-11T06:34:49.757084Z",
     "iopub.status.idle": "2023-03-11T06:34:49.836712Z",
     "shell.execute_reply": "2023-03-11T06:34:49.835622Z",
     "shell.execute_reply.started": "2023-03-11T06:34:49.757416Z"
    },
    "tags": []
   },
   "outputs": [],
   "source": [
    "dummy = \"PRE_COMMIT_DUMMY\"\n",
    "doc[\"project\"][\"dependencies\"] = dummy\n",
    "as_str = dumps(doc)\n",
    "new_str = re.sub('\"PRE_COMMIT_DUMMY\"', new, as_str, flags=re.MULTILINE)\n",
    "# print(new_str)\n",
    "\n",
    "with pypr_file.open(mode=\"r\") as fh:\n",
    "    pypr_str = fh.read()\n",
    "_ = parse(pypr_str)\n",
    "\n",
    "\n",
    "# with (pypr_file:=Path('pyproject.toml')).open(mode='w') as fh:\n",
    "# fh.write(dumps(doc))"
   ]
  },
  {
   "cell_type": "code",
   "execution_count": null,
   "id": "a23a0a4d-cfcb-473a-8b49-ef7e9a01d96c",
   "metadata": {},
   "outputs": [],
   "source": []
  }
 ],
 "metadata": {
  "kernelspec": {
   "display_name": "Python 3 (ipykernel)",
   "language": "python",
   "name": "python3"
  },
  "language_info": {
   "codemirror_mode": {
    "name": "ipython",
    "version": 3
   },
   "file_extension": ".py",
   "mimetype": "text/x-python",
   "name": "python",
   "nbconvert_exporter": "python",
   "pygments_lexer": "ipython3",
   "version": "3.9.16"
  }
 },
 "nbformat": 4,
 "nbformat_minor": 5
}
