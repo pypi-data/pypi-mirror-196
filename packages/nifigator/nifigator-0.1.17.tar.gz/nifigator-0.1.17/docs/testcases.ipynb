{
 "cells": [
  {
   "cell_type": "code",
   "execution_count": null,
   "id": "7af03086",
   "metadata": {},
   "outputs": [],
   "source": [
    "import nifigator\n",
    "from rdflib.term import Literal, URIRef\n",
    "\n",
    "context = nifigator.NifContext(\n",
    "    uri=\"https://mangosaurus.eu/rdf-data/doc_1\",\n",
    "    URIScheme=nifigator.OffsetBasedString,\n",
    "    isString=\"The cat sat on the mat. Felix was his name.\",\n",
    ")\n",
    "assert type(context) == nifigator.NifContext\n",
    "assert context.isString == \"The cat sat on the mat. Felix was his name.\"\n",
    "assert context.uri == URIRef(\"https://mangosaurus.eu/rdf-data/doc_1\")\n",
    "assert context.URIScheme == nifigator.OffsetBasedString"
   ]
  },
  {
   "cell_type": "code",
   "execution_count": null,
   "id": "f18336f5",
   "metadata": {},
   "outputs": [],
   "source": [
    "context = nifigator.NifContext(\n",
    "    uri=\"https://mangosaurus.eu/rdf-data/doc_1\",\n",
    "    URIScheme=nifigator.OffsetBasedString,\n",
    "    isString=\"The cat sat on the mat. Felix was his name.\",\n",
    ")\n",
    "collection = nifigator.NifContextCollection(uri=\"https://mangosaurus.eu/rdf-data\")\n",
    "collection.add_context(context)\n",
    "assert type(collection) == nifigator.NifContextCollection\n",
    "assert collection.conformsTo == URIRef('http://persistence.uni-leipzig.org/nlp2rdf/ontologies/nif-core/2.1')\n",
    "assert collection.contexts == [context]"
   ]
  },
  {
   "cell_type": "code",
   "execution_count": null,
   "id": "71fe3656",
   "metadata": {},
   "outputs": [],
   "source": [
    "import stanza\n",
    "context = nifigator.NifContext(\n",
    "        uri=\"https://mangosaurus.eu/rdf-data/doc_1\",\n",
    "        URIScheme=nifigator.OffsetBasedString,\n",
    "        isString=\"The cat sat on the mat. Felix was his name.\",\n",
    "    )\n",
    "\n",
    "nlp = stanza.Pipeline(\"en\", verbose=False)\n",
    "stanza_dict = nlp(context.isString).to_dict()\n",
    "context.load_from_dict(stanza_dict)\n",
    "assert context.sentences[0].anchorOf == \"The cat sat on the mat.\"\n",
    "assert context.sentences[1].anchorOf == \"Felix was his name.\"\n",
    "\n",
    "word = context.sentences[1].words[0]\n",
    "assert word.uri == URIRef(\"https://mangosaurus.eu/rdf-data/doc_1&nif=word_24_29\")\n",
    "assert str(word.referenceContext) == str(context)\n",
    "assert word.beginIndex == 24\n",
    "assert word.endIndex == 29\n",
    "assert word.anchorOf == \"Felix\"\n",
    "assert word.lemma == \"Felix\"\n",
    "assert word.morphofeats == [URIRef('http://purl.org/olia/olia.owl#Singular')]\n",
    "assert word.dependency[0].uri == URIRef('https://mangosaurus.eu/rdf-data/doc_1&nif=word_38_42')\n",
    "assert word.dependencyRelationType == 'nsubj'"
   ]
  },
  {
   "cell_type": "code",
   "execution_count": null,
   "id": "77c8601d",
   "metadata": {},
   "outputs": [],
   "source": [
    "context = nifigator.NifContext(\n",
    "        uri=\"https://mangosaurus.eu/rdf-data/doc_1\",\n",
    "        URIScheme=nifigator.OffsetBasedString,\n",
    "        isString=\"The cat sat on the mat. Felix was his name.\",\n",
    "    )\n",
    "collection = nifigator.NifContextCollection(uri=\"https://mangosaurus.eu/rdf-data\")\n",
    "collection.add_context(context)\n",
    "\n",
    "nlp = stanza.Pipeline(\"en\", verbose=False)\n",
    "stanza_dict = nlp(context.isString).to_dict()\n",
    "context.load_from_dict(stanza_dict)\n",
    "\n",
    "g = nifigator.NifGraph(collection=collection)\n",
    "collection = g.collection\n",
    "\n",
    "context = collection.contexts[0]\n",
    "assert type(context) == nifigator.NifContext\n",
    "assert context.isString == \"The cat sat on the mat. Felix was his name.\"\n",
    "assert context.uri == URIRef(\"https://mangosaurus.eu/rdf-data/doc_1\")\n",
    "assert context.URIScheme == URIRef('http://persistence.uni-leipzig.org/nlp2rdf/ontologies/nif-core#OffsetBasedString')\n",
    "assert context.sentences[0].anchorOf == \"The cat sat on the mat.\"\n",
    "assert context.sentences[1].anchorOf == \"Felix was his name.\"\n",
    "\n",
    "word = context.sentences[1].words[0]\n",
    "assert word.uri == URIRef(\"https://mangosaurus.eu/rdf-data/doc_1&nif=word_24_29\")\n",
    "assert str(word.referenceContext) == str(context)\n",
    "assert word.beginIndex == 24\n",
    "assert word.endIndex == 29\n",
    "assert word.anchorOf == \"Felix\"\n",
    "assert word.lemma == \"Felix\"\n",
    "assert word.morphofeats == [URIRef('http://purl.org/olia/olia.owl#Singular')]\n",
    "assert word.dependency[0].uri == URIRef('https://mangosaurus.eu/rdf-data/doc_1&nif=word_38_42')\n",
    "assert word.dependencyRelationType == 'nsubj'"
   ]
  },
  {
   "cell_type": "code",
   "execution_count": 1,
   "id": "8a8eabf1",
   "metadata": {},
   "outputs": [],
   "source": [
    "import termate"
   ]
  },
  {
   "cell_type": "code",
   "execution_count": 2,
   "id": "1af28b47",
   "metadata": {},
   "outputs": [],
   "source": [
    "path = \"P:\\\\projects\\\\tbx-data\\\\termbases\\\\EIOPA_SolvencyII_XBRL_Taxonomy_2.6.0_PWD_with_External_Files2.tbx\"\n",
    "termbase = termate.TbxDocument().open(path)"
   ]
  },
  {
   "cell_type": "code",
   "execution_count": 3,
   "id": "f81c81a2",
   "metadata": {},
   "outputs": [
    {
     "name": "stderr",
     "output_type": "stream",
     "text": [
      "The argument you provided does not comply with RFC 3987 and is not parseable as a IRI(there is no scheme or no net location part)\n",
      "iate_127562\n"
     ]
    },
    {
     "name": "stdout",
     "output_type": "stream",
     "text": [
      "iate_127562\n"
     ]
    },
    {
     "ename": "Exception",
     "evalue": "The argument you provided does not comply withRFC 3987 and is not parseable as a IRI(there is no scheme or no net location part)",
     "output_type": "error",
     "traceback": [
      "\u001b[1;31m---------------------------------------------------------------------------\u001b[0m",
      "\u001b[1;31mValueError\u001b[0m                                Traceback (most recent call last)",
      "File \u001b[1;32mD:\\code\\python\\nlp\\lib\\site-packages\\iribaker\\__init__.py:21\u001b[0m, in \u001b[0;36mto_iri\u001b[1;34m(iri)\u001b[0m\n\u001b[0;32m     18\u001b[0m \u001b[38;5;28;01mtry\u001b[39;00m:\n\u001b[0;32m     19\u001b[0m     \u001b[38;5;66;03m# If we can safely parse the URI, then we don't\u001b[39;00m\n\u001b[0;32m     20\u001b[0m     \u001b[38;5;66;03m# need to do anything special here\u001b[39;00m\n\u001b[1;32m---> 21\u001b[0m     \u001b[43mrfc3987\u001b[49m\u001b[38;5;241;43m.\u001b[39;49m\u001b[43mparse\u001b[49m\u001b[43m(\u001b[49m\u001b[43miri\u001b[49m\u001b[43m,\u001b[49m\u001b[43m \u001b[49m\u001b[43mrule\u001b[49m\u001b[38;5;241;43m=\u001b[39;49m\u001b[38;5;124;43m'\u001b[39;49m\u001b[38;5;124;43mIRI\u001b[39;49m\u001b[38;5;124;43m'\u001b[39;49m\u001b[43m)\u001b[49m\n\u001b[0;32m     22\u001b[0m     logger\u001b[38;5;241m.\u001b[39mdebug(\u001b[38;5;124m\"\u001b[39m\u001b[38;5;124mThis is already a valid IRI, doing nothing...\u001b[39m\u001b[38;5;124m\"\u001b[39m)\n",
      "File \u001b[1;32mD:\\code\\python\\nlp\\lib\\site-packages\\rfc3987.py:462\u001b[0m, in \u001b[0;36mparse\u001b[1;34m(string, rule)\u001b[0m\n\u001b[0;32m    461\u001b[0m \u001b[38;5;28;01mif\u001b[39;00m \u001b[38;5;129;01mnot\u001b[39;00m m:\n\u001b[1;32m--> 462\u001b[0m     \u001b[38;5;28;01mraise\u001b[39;00m \u001b[38;5;167;01mValueError\u001b[39;00m(\u001b[38;5;124m'\u001b[39m\u001b[38;5;132;01m%r\u001b[39;00m\u001b[38;5;124m is not a valid \u001b[39m\u001b[38;5;132;01m%r\u001b[39;00m\u001b[38;5;124m.\u001b[39m\u001b[38;5;124m'\u001b[39m \u001b[38;5;241m%\u001b[39m (string, rule))\n\u001b[0;32m    463\u001b[0m \u001b[38;5;28;01mif\u001b[39;00m REGEX:\n",
      "\u001b[1;31mValueError\u001b[0m: 'iate_127562' is not a valid 'IRI'.",
      "\nDuring handling of the above exception, another exception occurred:\n",
      "\u001b[1;31mException\u001b[0m                                 Traceback (most recent call last)",
      "Cell \u001b[1;32mIn[3], line 1\u001b[0m\n\u001b[1;32m----> 1\u001b[0m lemon \u001b[38;5;241m=\u001b[39m \u001b[43mtermate\u001b[49m\u001b[38;5;241;43m.\u001b[39;49m\u001b[43mtbx2lemon\u001b[49m\u001b[43m(\u001b[49m\n\u001b[0;32m      2\u001b[0m \u001b[43m    \u001b[49m\u001b[43muri\u001b[49m\u001b[38;5;241;43m=\u001b[39;49m\u001b[38;5;124;43m\"\u001b[39;49m\u001b[38;5;124;43mhttps://dnb.nl/rdf-data/vocabulary/EIOPA_SolvencyII_XBRL_Taxonomy_2.6.0_PWD_with_External_Files\u001b[39;49m\u001b[38;5;124;43m\"\u001b[39;49m\u001b[43m,\u001b[49m\n\u001b[0;32m      3\u001b[0m \u001b[43m    \u001b[49m\u001b[43mtermbase\u001b[49m\u001b[38;5;241;43m=\u001b[39;49m\u001b[43mtermbase\u001b[49m\n\u001b[0;32m      4\u001b[0m \u001b[43m)\u001b[49m\n",
      "File \u001b[1;32md:\\code\\python\\termate\\termate\\convert2lemon.py:383\u001b[0m, in \u001b[0;36mtbx2lemon.__init__\u001b[1;34m(self, uri, termbase)\u001b[0m\n\u001b[0;32m    380\u001b[0m         \u001b[38;5;28mself\u001b[39m\u001b[38;5;241m.\u001b[39mgraph\u001b[38;5;241m.\u001b[39madd(triple)\n\u001b[0;32m    382\u001b[0m \u001b[38;5;28;01mfor\u001b[39;00m concept \u001b[38;5;129;01min\u001b[39;00m lemon_concepts:\n\u001b[1;32m--> 383\u001b[0m     \u001b[38;5;28;01mfor\u001b[39;00m triple \u001b[38;5;129;01min\u001b[39;00m concept\u001b[38;5;241m.\u001b[39mtriples():\n\u001b[0;32m    384\u001b[0m         \u001b[38;5;28mself\u001b[39m\u001b[38;5;241m.\u001b[39mgraph\u001b[38;5;241m.\u001b[39madd(triple)\n\u001b[0;32m    386\u001b[0m \u001b[38;5;28;01mfor\u001b[39;00m entry \u001b[38;5;129;01min\u001b[39;00m lemon_entries:\n",
      "File \u001b[1;32md:\\code\\python\\termate\\termate\\convert2lemon.py:86\u001b[0m, in \u001b[0;36mLemonConcept.triples\u001b[1;34m(self)\u001b[0m\n\u001b[0;32m     82\u001b[0m \u001b[38;5;250m\u001b[39m\u001b[38;5;124;03m\"\"\"\u001b[39;00m\n\u001b[0;32m     83\u001b[0m \u001b[38;5;124;03mGenerates all the triples\u001b[39;00m\n\u001b[0;32m     84\u001b[0m \u001b[38;5;124;03m\"\"\"\u001b[39;00m\n\u001b[0;32m     85\u001b[0m \u001b[38;5;28mprint\u001b[39m(\u001b[38;5;28mself\u001b[39m\u001b[38;5;241m.\u001b[39m_uri)\n\u001b[1;32m---> 86\u001b[0m \u001b[38;5;28;01mif\u001b[39;00m \u001b[38;5;28;43mself\u001b[39;49m\u001b[38;5;241;43m.\u001b[39;49m\u001b[43muri\u001b[49m \u001b[38;5;129;01mis\u001b[39;00m \u001b[38;5;129;01mnot\u001b[39;00m \u001b[38;5;28;01mNone\u001b[39;00m:\n\u001b[0;32m     87\u001b[0m     \u001b[38;5;28;01myield\u001b[39;00m (\u001b[38;5;28mself\u001b[39m\u001b[38;5;241m.\u001b[39muri, RDF\u001b[38;5;241m.\u001b[39mtype, SKOS\u001b[38;5;241m.\u001b[39mConcept)\n\u001b[0;32m     88\u001b[0m     \u001b[38;5;28;01mif\u001b[39;00m \u001b[38;5;28mself\u001b[39m\u001b[38;5;241m.\u001b[39msubjectField \u001b[38;5;129;01mis\u001b[39;00m \u001b[38;5;129;01mnot\u001b[39;00m \u001b[38;5;28;01mNone\u001b[39;00m:\n",
      "File \u001b[1;32md:\\code\\python\\termate\\termate\\convert2lemon.py:36\u001b[0m, in \u001b[0;36mLemonBase.uri\u001b[1;34m(self)\u001b[0m\n\u001b[0;32m     33\u001b[0m \u001b[38;5;129m@property\u001b[39m\n\u001b[0;32m     34\u001b[0m \u001b[38;5;28;01mdef\u001b[39;00m \u001b[38;5;21muri\u001b[39m(\u001b[38;5;28mself\u001b[39m):\n\u001b[0;32m     35\u001b[0m     \u001b[38;5;28;01mif\u001b[39;00m \u001b[38;5;28mself\u001b[39m\u001b[38;5;241m.\u001b[39m_uri \u001b[38;5;129;01mis\u001b[39;00m \u001b[38;5;129;01mnot\u001b[39;00m \u001b[38;5;28;01mNone\u001b[39;00m:\n\u001b[1;32m---> 36\u001b[0m         \u001b[38;5;28;01mreturn\u001b[39;00m URIRef(\u001b[43miribaker\u001b[49m\u001b[38;5;241;43m.\u001b[39;49m\u001b[43mto_iri\u001b[49m\u001b[43m(\u001b[49m\u001b[38;5;28;43mself\u001b[39;49m\u001b[38;5;241;43m.\u001b[39;49m\u001b[43m_uri\u001b[49m\u001b[43m)\u001b[49m)\n\u001b[0;32m     37\u001b[0m     \u001b[38;5;28;01melse\u001b[39;00m:\n\u001b[0;32m     38\u001b[0m         \u001b[38;5;28;01mreturn\u001b[39;00m \u001b[38;5;28;01mNone\u001b[39;00m\n",
      "File \u001b[1;32mD:\\code\\python\\nlp\\lib\\site-packages\\iribaker\\__init__.py:37\u001b[0m, in \u001b[0;36mto_iri\u001b[1;34m(iri)\u001b[0m\n\u001b[0;32m     33\u001b[0m     logger\u001b[38;5;241m.\u001b[39merror(\u001b[38;5;124m\"\u001b[39m\u001b[38;5;124mThe argument you provided does not comply with \u001b[39m\u001b[38;5;124m\"\u001b[39m\n\u001b[0;32m     34\u001b[0m                  \u001b[38;5;124m\"\u001b[39m\u001b[38;5;124mRFC 3987 and is not parseable as a IRI\u001b[39m\u001b[38;5;124m\"\u001b[39m\n\u001b[0;32m     35\u001b[0m                  \u001b[38;5;124m\"\u001b[39m\u001b[38;5;124m(there is no scheme or no net location part)\u001b[39m\u001b[38;5;124m\"\u001b[39m)\n\u001b[0;32m     36\u001b[0m     logger\u001b[38;5;241m.\u001b[39merror(iri)\n\u001b[1;32m---> 37\u001b[0m     \u001b[38;5;28;01mraise\u001b[39;00m \u001b[38;5;167;01mException\u001b[39;00m(\u001b[38;5;124m\"\u001b[39m\u001b[38;5;124mThe argument you provided does not comply with\u001b[39m\u001b[38;5;124m\"\u001b[39m\n\u001b[0;32m     38\u001b[0m                     \u001b[38;5;124m\"\u001b[39m\u001b[38;5;124mRFC 3987 and is not parseable as a IRI\u001b[39m\u001b[38;5;124m\"\u001b[39m\n\u001b[0;32m     39\u001b[0m                     \u001b[38;5;124m\"\u001b[39m\u001b[38;5;124m(there is no scheme or no net location part)\u001b[39m\u001b[38;5;124m\"\u001b[39m)\n\u001b[0;32m     41\u001b[0m logger\u001b[38;5;241m.\u001b[39mdebug(\u001b[38;5;124m\"\u001b[39m\u001b[38;5;124mThe IRI contains all necessary parts (scheme + net location)\u001b[39m\u001b[38;5;124m\"\u001b[39m)\n\u001b[0;32m     42\u001b[0m quoted_parts \u001b[38;5;241m=\u001b[39m {}\n",
      "\u001b[1;31mException\u001b[0m: The argument you provided does not comply withRFC 3987 and is not parseable as a IRI(there is no scheme or no net location part)"
     ]
    }
   ],
   "source": [
    "lemon = termate.tbx2lemon(\n",
    "    uri=\"https://dnb.nl/rdf-data/vocabulary/EIOPA_SolvencyII_XBRL_Taxonomy_2.6.0_PWD_with_External_Files\",\n",
    "    termbase=termbase\n",
    ")"
   ]
  },
  {
   "cell_type": "code",
   "execution_count": null,
   "id": "c8350abf",
   "metadata": {},
   "outputs": [],
   "source": [
    "path = \"P:\\\\projects\\\\rdf-data\\\\termbases\\\\EIOPA_SolvencyII_XBRL_Taxonomy_2.6.0_PWD_with_External_Files.ttl\"\n",
    "lemon.graph.serialize(destination=)"
   ]
  },
  {
   "cell_type": "code",
   "execution_count": null,
   "id": "e45fc9db",
   "metadata": {},
   "outputs": [],
   "source": []
  }
 ],
 "metadata": {
  "kernelspec": {
   "display_name": "Python 3 (ipykernel)",
   "language": "python",
   "name": "python3"
  },
  "language_info": {
   "codemirror_mode": {
    "name": "ipython",
    "version": 3
   },
   "file_extension": ".py",
   "mimetype": "text/x-python",
   "name": "python",
   "nbconvert_exporter": "python",
   "pygments_lexer": "ipython3",
   "version": "3.10.10"
  }
 },
 "nbformat": 4,
 "nbformat_minor": 5
}
