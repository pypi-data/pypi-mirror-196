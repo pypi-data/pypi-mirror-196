{
  "nbformat": 4,
  "nbformat_minor": 0,
  "metadata": {
    "colab": {
      "provenance": [],
      "authorship_tag": "ABX9TyPnt1cyJY+Vmq/UIEtICdYZ",
      "include_colab_link": true
    },
    "kernelspec": {
      "name": "python3",
      "display_name": "Python 3"
    },
    "language_info": {
      "name": "python"
    }
  },
  "cells": [
    {
      "cell_type": "markdown",
      "metadata": {
        "id": "view-in-github",
        "colab_type": "text"
      },
      "source": [
        "<a href=\"https://colab.research.google.com/github/tymor22/tm-vec/blob/master/google_colabs/Load_TM_Vec_embeddings.ipynb\" target=\"_parent\"><img src=\"https://colab.research.google.com/assets/colab-badge.svg\" alt=\"Open In Colab\"/></a>"
      ]
    },
    {
      "cell_type": "code",
      "execution_count": 1,
      "metadata": {
        "id": "li434sovlcY0"
      },
      "outputs": [],
      "source": [
        "import numpy as np\n",
        "import pandas as pd\n",
        "from sklearn.manifold import TSNE\n",
        "import matplotlib.pyplot as plt\n",
        "import seaborn as sns "
      ]
    },
    {
      "cell_type": "markdown",
      "source": [
        "# Download a TM-Vec database or use your own"
      ],
      "metadata": {
        "id": "JN7XU_mwl5Sh"
      }
    },
    {
      "cell_type": "code",
      "source": [
        "#Here we download a CATH TM-Vec database\n",
        "!wget https://users.flatironinstitute.org/thamamsy/public_www/cath_large.npy\n",
        "!wget https://users.flatironinstitute.org/thamamsy/public_www/cath_large_metadata.npy"
      ],
      "metadata": {
        "colab": {
          "base_uri": "https://localhost:8080/"
        },
        "id": "DZtVDDjvlqwB",
        "outputId": "04b07295-1aa0-4817-8557-2f12a16167ad"
      },
      "execution_count": 4,
      "outputs": [
        {
          "output_type": "stream",
          "name": "stdout",
          "text": [
            "--2023-02-07 20:36:43--  https://users.flatironinstitute.org/thamamsy/public_www/cath_large.npy\n",
            "Resolving users.flatironinstitute.org (users.flatironinstitute.org)... 144.121.86.9\n",
            "Connecting to users.flatironinstitute.org (users.flatironinstitute.org)|144.121.86.9|:443... connected.\n",
            "HTTP request sent, awaiting response... 301 Moved Permanently\n",
            "Location: https://users.flatironinstitute.org/~thamamsy/cath_large.npy [following]\n",
            "--2023-02-07 20:36:43--  https://users.flatironinstitute.org/~thamamsy/cath_large.npy\n",
            "Reusing existing connection to users.flatironinstitute.org:443.\n",
            "HTTP request sent, awaiting response... 200 OK\n",
            "Length: 1024487552 (977M) [application/octet-stream]\n",
            "Saving to: ‘cath_large.npy’\n",
            "\n",
            "cath_large.npy      100%[===================>] 977.03M  92.4MB/s    in 11s     \n",
            "\n",
            "2023-02-07 20:36:54 (90.7 MB/s) - ‘cath_large.npy’ saved [1024487552/1024487552]\n",
            "\n",
            "--2023-02-07 20:36:54--  https://users.flatironinstitute.org/thamamsy/public_www/cath_large_metadata.npy\n",
            "Resolving users.flatironinstitute.org (users.flatironinstitute.org)... 144.121.86.9\n",
            "Connecting to users.flatironinstitute.org (users.flatironinstitute.org)|144.121.86.9|:443... connected.\n",
            "HTTP request sent, awaiting response... 301 Moved Permanently\n",
            "Location: https://users.flatironinstitute.org/~thamamsy/cath_large_metadata.npy [following]\n",
            "--2023-02-07 20:36:54--  https://users.flatironinstitute.org/~thamamsy/cath_large_metadata.npy\n",
            "Reusing existing connection to users.flatironinstitute.org:443.\n",
            "HTTP request sent, awaiting response... 200 OK\n",
            "Length: 132062960 (126M) [application/octet-stream]\n",
            "Saving to: ‘cath_large_metadata.npy’\n",
            "\n",
            "cath_large_metadata 100%[===================>] 125.94M  81.0MB/s    in 1.6s    \n",
            "\n",
            "2023-02-07 20:36:56 (81.0 MB/s) - ‘cath_large_metadata.npy’ saved [132062960/132062960]\n",
            "\n"
          ]
        }
      ]
    },
    {
      "cell_type": "markdown",
      "source": [
        "# The embeddings and metadata are saved as numpy arrays (npy) and can be easily loaded in python as follows."
      ],
      "metadata": {
        "id": "Eg-srpXkmOmX"
      }
    },
    {
      "cell_type": "code",
      "source": [
        "embeddings = np.load('cath_large.npy', allow_pickle=True)\n",
        "metadata = np.load('cath_large_metadata.npy', allow_pickle=True)"
      ],
      "metadata": {
        "id": "CxNvRu57lxqW"
      },
      "execution_count": 6,
      "outputs": []
    },
    {
      "cell_type": "markdown",
      "source": [
        "This particular database is a bit large (> 500K domains) to visualize in one TSNE, so we recommend sampling before visualizing all together."
      ],
      "metadata": {
        "id": "L72CQWSzmoS_"
      }
    },
    {
      "cell_type": "code",
      "source": [
        "embeddings.shape"
      ],
      "metadata": {
        "colab": {
          "base_uri": "https://localhost:8080/"
        },
        "id": "fQ3IEktxmHNS",
        "outputId": "ff948560-53c3-499f-f73b-7065d9efab11"
      },
      "execution_count": 7,
      "outputs": [
        {
          "output_type": "execute_result",
          "data": {
            "text/plain": [
              "(500238, 512)"
            ]
          },
          "metadata": {},
          "execution_count": 7
        }
      ]
    },
    {
      "cell_type": "code",
      "source": [
        "metadata"
      ],
      "metadata": {
        "colab": {
          "base_uri": "https://localhost:8080/"
        },
        "id": "YVgzGvw2mHQJ",
        "outputId": "712ae341-76df-4378-af73-36414ca59b6c"
      },
      "execution_count": 11,
      "outputs": [
        {
          "output_type": "execute_result",
          "data": {
            "text/plain": [
              "array(['cath|4_3_0|101mA00/0-153', 'cath|4_3_0|102lA00/1-162',\n",
              "       'cath|4_3_0|102mA00/0-153', ..., 'cath|4_3_0|9ximB00/3-394',\n",
              "       'cath|4_3_0|9ximC00/4-394', 'cath|4_3_0|9ximD00/3-394'],\n",
              "      dtype='<U66')"
            ]
          },
          "metadata": {},
          "execution_count": 11
        }
      ]
    }
  ]
}