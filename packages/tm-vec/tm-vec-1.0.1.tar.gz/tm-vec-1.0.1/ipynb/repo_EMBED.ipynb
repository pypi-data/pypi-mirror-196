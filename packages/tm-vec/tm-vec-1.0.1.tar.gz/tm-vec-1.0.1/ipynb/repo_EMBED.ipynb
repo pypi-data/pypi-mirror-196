{
 "cells": [
  {
   "cell_type": "code",
   "execution_count": 2,
   "id": "aadc86f3-d71e-4b3b-a338-b5a85c140c76",
   "metadata": {},
   "outputs": [
    {
     "ename": "ModuleNotFoundError",
     "evalue": "No module named 'seaborn'",
     "output_type": "error",
     "traceback": [
      "\u001b[0;31m---------------------------------------------------------------------------\u001b[0m",
      "\u001b[0;31mModuleNotFoundError\u001b[0m                       Traceback (most recent call last)",
      "Input \u001b[0;32mIn [2]\u001b[0m, in \u001b[0;36m<cell line: 16>\u001b[0;34m()\u001b[0m\n\u001b[1;32m     14\u001b[0m \u001b[38;5;28;01mfrom\u001b[39;00m \u001b[38;5;21;01msklearn\u001b[39;00m\u001b[38;5;21;01m.\u001b[39;00m\u001b[38;5;21;01mmanifold\u001b[39;00m \u001b[38;5;28;01mimport\u001b[39;00m TSNE\n\u001b[1;32m     15\u001b[0m \u001b[38;5;28;01mimport\u001b[39;00m \u001b[38;5;21;01mmatplotlib\u001b[39;00m\u001b[38;5;21;01m.\u001b[39;00m\u001b[38;5;21;01mpyplot\u001b[39;00m \u001b[38;5;28;01mas\u001b[39;00m \u001b[38;5;21;01mplt\u001b[39;00m\n\u001b[0;32m---> 16\u001b[0m \u001b[38;5;28;01mimport\u001b[39;00m \u001b[38;5;21;01mseaborn\u001b[39;00m \u001b[38;5;28;01mas\u001b[39;00m \u001b[38;5;21;01msns\u001b[39;00m\n",
      "\u001b[0;31mModuleNotFoundError\u001b[0m: No module named 'seaborn'"
     ]
    }
   ],
   "source": [
    "import numpy as np\n",
    "import pandas as pd\n",
    "\n",
    "import torch\n",
    "from torch.utils.data import Dataset\n",
    "\n",
    "from tm_vec.embed_structure_model import trans_basic_block, trans_basic_block_Config\n",
    "from tm_vec.tm_vec_utils import featurize_prottrans, embed_tm_vec\n",
    "\n",
    "from transformers import T5EncoderModel, T5Tokenizer\n",
    "import re\n",
    "import gc\n",
    "\n",
    "from sklearn.manifold import TSNE\n",
    "import matplotlib.pyplot as plt\n",
    "import seaborn as sns "
   ]
  },
  {
   "cell_type": "code",
   "execution_count": null,
   "id": "e453d99d-75d0-4cdd-b853-666139cadb15",
   "metadata": {},
   "outputs": [],
   "source": [
    "#Load the ProtTrans model and ProtTrans tokenizer\n",
    "tokenizer = T5Tokenizer.from_pretrained(\"Rostlab/prot_t5_xl_uniref50\", do_lower_case=False )\n",
    "model = T5EncoderModel.from_pretrained(\"Rostlab/prot_t5_xl_uniref50\")\n",
    "gc.collect()\n",
    "\n",
    "device = torch.device('cuda:0' if torch.cuda.is_available() else 'cpu')\n",
    "model = model.to(device)\n",
    "model = model.eval()"
   ]
  },
  {
   "cell_type": "code",
   "execution_count": null,
   "id": "be7c09a9-699d-403c-97fc-412f61d9d420",
   "metadata": {},
   "outputs": [],
   "source": [
    "#TM-Vec model paths\n",
    "tm_vec_model_cpnt = \"/mnt/home/thamamsy/ceph/deepblast/models/transformer_lr0.0001_dmodel1024_nlayer2_datasample_45_thresh_300_pairs_in_folds_included_23M_normal_tmax/checkpoints/last.ckpt\"\n",
    "tm_vec_model_config = \"/mnt/home/thamamsy/ceph/deepblast/models/transformer_lr0.0001_dmodel1024_nlayer2_datasample_45_thresh_300_pairs_in_folds_included_23M_normal_tmax/params.json\"\n",
    "#tm_vec_model_cpnt = '/mnt/home/thamamsy/ceph/deepblast/models/transformer_lr0.000075_dmodel1024_nlayer2_all_pairs_tm_sample_95percent_141Mtest/checkpoints/epoch=3-step=1490999-val_loss=0.0272.ckpt'\n",
    "#tm_vec_model_config = '/mnt/home/thamamsy/ceph/deepblast/models/transformer_lr0.000075_dmodel1024_nlayer2_all_pairs_tm_sample_95percent_141Mtest/params.json'\n",
    "\n",
    "#Load the TM-Vec model\n",
    "tm_vec_model_config = trans_basic_block_Config.from_json(tm_vec_model_config)\n",
    "model_deep = trans_basic_block.load_from_checkpoint(tm_vec_model_cpnt, config=tm_vec_model_config)\n",
    "model_deep = model_deep.to(device)\n",
    "model_deep = model_deep.eval()"
   ]
  },
  {
   "cell_type": "code",
   "execution_count": null,
   "id": "8d44f971-af4f-4fe7-a355-22b62f13d945",
   "metadata": {},
   "outputs": [],
   "source": [
    "#Load some example sequences- in this case Bacteriocins\n",
    "sequence_file = pd.read_csv(\"/mnt/home/thamamsy/ceph/deepblast/data/other_benchmarks/bagel_bacteriocins_class_1_unique.csv\")\n",
    "sequence_file['length'] = [len(bact) for bact in sequence_file['Sequence'].values]\n",
    "#Filter for sequences that meet some criteria- in this case sequences that are longer than 30 residues\n",
    "sequence_file_longer_than_30 = sequence_file[sequence_file['length'] >= 30]\n",
    "\n",
    "#Make a list of your sequences\n",
    "flat_seqs = list(sequence_file_longer_than_30['Sequence'].values)"
   ]
  },
  {
   "cell_type": "code",
   "execution_count": null,
   "id": "21631c58-0408-4c49-b906-aa6887a52aaa",
   "metadata": {},
   "outputs": [],
   "source": [
    "#Loop through the sequences and embed them\n",
    "i = 0\n",
    "embed_all_sequences = []\n",
    "while i < len(flat_seqs): \n",
    "    protrans_sequence = featurize_prottrans(flat_seqs[i:i+1], model, tokenizer, device)\n",
    "    embedded_sequence = embed_tm_vec(protrans_sequence, model_deep, device)\n",
    "    embed_all_sequences.append(embedded_sequence)\n",
    "    i = i + 1"
   ]
  },
  {
   "cell_type": "code",
   "execution_count": null,
   "id": "a3d0eb60-6364-41a9-9da8-dfdf1aad623a",
   "metadata": {},
   "outputs": [],
   "source": [
    "#Perform TSNE on the resulting embedding vectors\n",
    "np_bacteriocine_embeddings = np.concatenate(embed_all_sequences, axis=0)\n",
    "all_bact_X_embedded = TSNE(n_components=2, learning_rate='auto', init='random').fit_transform(np_bacteriocine_embeddings)\n",
    "\n",
    "all_bact_X_embedded_df = pd.DataFrame(all_bact_X_embedded)\n",
    "all_bact_X_embedded_df.columns = [\"Dim1\", \"Dim2\"]"
   ]
  },
  {
   "cell_type": "code",
   "execution_count": null,
   "id": "5c2fedaa-7950-4f5b-8354-bad8c5b27306",
   "metadata": {},
   "outputs": [],
   "source": [
    "#Combine the TSNE with the Subclass identity of the class 1 bacteriocin\n",
    "all_bact_X_embedded_df['Subclass'] = sequence_file_longer_than_30['Subclass'].values"
   ]
  },
  {
   "cell_type": "code",
   "execution_count": null,
   "id": "82a7683f-0a2c-4d5b-abe4-1648edbadcdd",
   "metadata": {},
   "outputs": [],
   "source": [
    "#Visualize the TSNE, coloring by Subclass\n",
    "sns.lmplot(x=\"Dim1\", y=\"Dim2\", data=all_bact_X_embedded_df, hue=\"Subclass\", fit_reg=False)"
   ]
  },
  {
   "cell_type": "code",
   "execution_count": null,
   "id": "d4adc477-c6dd-478b-80c0-1d2acb279fa8",
   "metadata": {},
   "outputs": [],
   "source": []
  }
 ],
 "metadata": {
  "kernelspec": {
   "display_name": "Python 3 (ipykernel)",
   "language": "python",
   "name": "python3"
  },
  "language_info": {
   "codemirror_mode": {
    "name": "ipython",
    "version": 3
   },
   "file_extension": ".py",
   "mimetype": "text/x-python",
   "name": "python",
   "nbconvert_exporter": "python",
   "pygments_lexer": "ipython3",
   "version": "3.10.4"
  }
 },
 "nbformat": 4,
 "nbformat_minor": 5
}
